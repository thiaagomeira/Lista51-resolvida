{
  "cells": [
    {
      "cell_type": "markdown",
      "metadata": {
        "id": "view-in-github",
        "colab_type": "text"
      },
      "source": [
        "<a href=\"https://colab.research.google.com/github/thiaagomeira/Lista51-resolvida/blob/Exerc%C3%ADcio-resolvido/lista_de_51_quest_es.ipynb\" target=\"_parent\"><img src=\"https://colab.research.google.com/assets/colab-badge.svg\" alt=\"Open In Colab\"/></a>"
      ]
    },
    {
      "cell_type": "code",
      "execution_count": null,
      "metadata": {
        "colab": {
          "base_uri": "https://localhost:8080/"
        },
        "id": "vxD4hGL8B_xO",
        "outputId": "2f6ec584-3566-4db4-e19f-1c91159a622a"
      },
      "outputs": [
        {
          "name": "stdout",
          "output_type": "stream",
          "text": [
            "Insira uma nota entre 0 e 10: 11\n",
            "A nota digitada está incorreta. Digite novamente uma nota entre 0 e 10: 5\n"
          ]
        }
      ],
      "source": [
        "# 1 - Faça um programa que peça uma nota, entre zero e dez. Mostre uma mensagem caso o valor seja inválido e continue pedindo até que o usuário informe um valor válido.\n",
        "\n",
        "nota = float(input(\"Insira uma nota entre 0 e 10: \"))\n",
        "while (nota < 0 or nota > 10):\n",
        "  nota = float(input(\"A nota digitada está incorreta. Digite novamente uma nota entre 0 e 10: \"))"
      ]
    },
    {
      "cell_type": "code",
      "execution_count": null,
      "metadata": {
        "colab": {
          "base_uri": "https://localhost:8080/"
        },
        "id": "r6SXDAyACUb7",
        "outputId": "4497721c-2301-4c54-d172-29b3f30fa9b8"
      },
      "outputs": [
        {
          "name": "stdout",
          "output_type": "stream",
          "text": [
            "Realizer seu cadastro:\n",
            "usuário: admin\n",
            "senha: admin\n",
            "ERRO: Usuário e senhas não podem ser iguais, tente novamente\n",
            "usuário: admin\n",
            "senha: 123\n",
            "Cadastro realizado\n"
          ]
        }
      ],
      "source": [
        "# 2 - Faça um programa que leia um nome de usuário e a sua senha e não aceite a senha igual ao nome do usuário, mostrando uma mensagem de erro e voltando a pedir as informações.\n",
        "\n",
        "print(\"Realizer seu cadastro:\")\n",
        "usuario=str(input(\"usuário: \"))\n",
        "senha=str(input(\"senha: \"))\n",
        "while usuario==senha:\n",
        "\tprint(\"ERRO: Usuário e senhas não podem ser iguais, tente novamente\")\n",
        "\tusuario=str(input(\"usuário: \"))\n",
        "\tsenha=str(input(\"senha: \"))\n",
        "else:\n",
        "\tprint(\"Cadastro realizado\")"
      ]
    },
    {
      "cell_type": "code",
      "execution_count": null,
      "metadata": {
        "colab": {
          "base_uri": "https://localhost:8080/"
        },
        "id": "JhlzLYVvDC0r",
        "outputId": "c9a68818-8f0a-493f-feba-46de8bb03720"
      },
      "outputs": [
        {
          "name": "stdout",
          "output_type": "stream",
          "text": [
            "Insira o seu nome: T\n",
            "Nome deve ter mais de 3 letras: Thiago\n",
            "Insira a sua idade: 200\n",
            "Idade deve estar entre 0 e 150 anos: 39\n",
            "Qual o seu salário: 0\n",
            "Salário deve ser maior que zero: 5000\n",
            "Qual o seu sexo (apenas a letra inicial): Masculino\n",
            "Digite apenas a letra inicial: M\n",
            "Qual o seu estado civil (apenas a letra inicial): Solteiro\n",
            "Digite apenas a letra inicial: S\n"
          ]
        }
      ],
      "source": [
        "# 3 - Faça um programa que leia e valide as seguintes informações:\n",
        "# Nome: maior que 3 caracteres;\n",
        "# Idade: entre 0 e 150;\n",
        "# Salário: maior que zero;\n",
        "# Sexo: 'f' ou 'm';\n",
        "# Estado Civil: 's', 'c', 'v', 'd';\n",
        "\n",
        "nome = str(input(\"Insira o seu nome: \"))\n",
        "while (len(nome) <= 3):\n",
        "  nome = str(input(\"Nome deve ter mais de 3 letras: \"))\n",
        "\n",
        "idade = int(input(\"Insira a sua idade: \"))\n",
        "while (idade > 150 or idade < 0):\n",
        "  idade = int(input(\"Idade deve estar entre 0 e 150 anos: \"))\n",
        "\n",
        "salario = int(input(\"Qual o seu salário: \"))\n",
        "while (salario <= 0):\n",
        "  salario = int(input(\"Salário deve ser maior que zero: \"))\n",
        "\n",
        "sexo = str(input(\"Qual o seu sexo (apenas a letra inicial): \"))\n",
        "while  sexo != \"m\" and sexo != \"M\" and sexo != \"f\" and sexo != \"F\":\n",
        "  sexo = str(input(\"Digite apenas a letra inicial: \"))\n",
        "\n",
        "estado_civil = str(input(\"Qual o seu estado civil (apenas a letra inicial): \"))\n",
        "while (estado_civil != \"s\" and estado_civil != \"S\" and estado_civil != \"c\"  and estado_civil != \"C\"\n",
        "       and estado_civil != \"v\" and estado_civil != \"V\" and estado_civil != \"d\" and estado_civil != \"D\"):\n",
        "  estado_civil = str(input(\"Digite apenas a letra inicial: \"))"
      ]
    },
    {
      "cell_type": "code",
      "execution_count": null,
      "metadata": {
        "colab": {
          "base_uri": "https://localhost:8080/"
        },
        "id": "rTokkgoSJLM2",
        "outputId": "f63612af-f29f-40c8-a00e-dedda30a946f"
      },
      "outputs": [
        {
          "name": "stdout",
          "output_type": "stream",
          "text": [
            "A população do País A ultrapassa ultrapassa a população do país B em 63 anos\n",
            "País A: 515033\n",
            "País B: 510964\n"
          ]
        }
      ],
      "source": [
        "# 4 - Supondo que a população de um país A seja da ordem de 80000 habitantes com uma taxa anual de crescimento de 3% e que a população de B seja 200000 habitantes com uma taxa de crescimento de 1.5%. \n",
        "# Faça um programa que calcule e escreva o número de anos necessários para que a população do país A ultrapasse ou iguale a população do país B, mantidas as taxas de crescimento.\n",
        "\n",
        "paísA = 80000\n",
        "paísB = 200000\n",
        "ano = 0\n",
        "\n",
        "while paísA <= paísB:\n",
        "\tpaísA += paísA * 0.03\n",
        "\tpaísB += paísB * 0.015\n",
        "\tano += 1\n",
        "\n",
        "print ( \"A população do País A ultrapassa ultrapassa a população do país B em %d anos\" %ano )\n",
        "print(\"País A: %.0f\" % paísA)\n",
        "print(\"País B: %.0f\" % paísB)"
      ]
    },
    {
      "cell_type": "code",
      "execution_count": null,
      "metadata": {
        "colab": {
          "base_uri": "https://localhost:8080/"
        },
        "id": "_vtI1-3ILn44",
        "outputId": "c95f75a4-db14-44a0-cc2a-bdd33d3c3687"
      },
      "outputs": [
        {
          "name": "stdout",
          "output_type": "stream",
          "text": [
            "População A: 5000000\n",
            "Taxa de crescimento da população A: 2\n",
            "\n",
            "População B: 500\n",
            "Taxa de crescimento da população B: 5\n",
            "\n",
            "A população de A ultrapassa a do país B em 0 anos\n",
            "população A: 0.02 habitantes\n",
            "população B: 0.05 habitantes\n"
          ]
        }
      ],
      "source": [
        "# 5 - Altere o programa anterior permitindo ao usuário informar as populações e as taxas de crescimento iniciais. Valide a entrada e permita repetir a operação.\n",
        "\n",
        "a = int(input(\"População A: \"))\n",
        "taxaA = float(input(\"Taxa de crescimento da população A: \"))\n",
        "result1 = (taxaA * 0.01)\n",
        "b = int(input(\"\\nPopulação B: \"))\n",
        "taxaB = float(input(\"Taxa de crescimento da população B: \"))\n",
        "result2 = (taxaB * 0.01)\n",
        "ano = 0\n",
        "while a <= b:\n",
        "  a += a * result1\n",
        "  b += b * result2\n",
        "  ano += 1\n",
        "print(\"\\nA população de A ultrapassa a do país B em %d anos\" %ano)\n",
        "print(\"população A:\", result1,\"habitantes\")\n",
        "print(\"população B:\", result2,\"habitantes\")"
      ]
    },
    {
      "cell_type": "code",
      "execution_count": null,
      "metadata": {
        "colab": {
          "base_uri": "https://localhost:8080/"
        },
        "id": "VmsJrbWGQAYs",
        "outputId": "27a67ba8-265c-4f14-f26f-cb18bd080afd"
      },
      "outputs": [
        {
          "name": "stdout",
          "output_type": "stream",
          "text": [
            "1\n",
            "2\n",
            "3\n",
            "4\n",
            "5\n",
            "6\n",
            "7\n",
            "8\n",
            "9\n",
            "10\n",
            "11\n",
            "12\n",
            "13\n",
            "14\n",
            "15\n",
            "16\n",
            "17\n",
            "18\n",
            "19\n",
            "20\n",
            "1 2 3 4 5 6 7 8 9 10 11 12 13 14 15 16 17 18 19 20 "
          ]
        }
      ],
      "source": [
        "# 6 - Faça um programa que imprima na tela os números de 1 a 20, um abaixo do outro. Depois modifique o programa para que ele mostre os números um ao lado do outro.\n",
        "\n",
        "for numero in range (1,21):\n",
        "  print (numero)\n",
        "    \n",
        "for numero in range (1, 21):\n",
        "  print (numero, end = ' ')"
      ]
    },
    {
      "cell_type": "code",
      "execution_count": null,
      "metadata": {
        "colab": {
          "base_uri": "https://localhost:8080/"
        },
        "id": "I_u3F5pYRAyL",
        "outputId": "82f4cfd4-1e95-4594-c62e-77fb6b7b7885"
      },
      "outputs": [
        {
          "name": "stdout",
          "output_type": "stream",
          "text": [
            "Primeiro número: 10\n",
            "Segundo número: 9\n",
            "Terceiro número: 8\n",
            "Quarto número: 7\n",
            "Quinto número: 6\n",
            "O primeiro número é o maior:  10\n"
          ]
        }
      ],
      "source": [
        "# 7 - Faça um programa que leia 5 números e informe o maior número.\n",
        "\n",
        "num1 = int(input(\"Primeiro número: \"))\n",
        "num2 = int(input(\"Segundo número: \"))\n",
        "num3 = int(input(\"Terceiro número: \"))\n",
        "num4 = int(input(\"Quarto número: \"))\n",
        "num5 = int(input(\"Quinto número: \"))\n",
        "if num1 > num2 and num1 > num3 > num4 > num5:\n",
        "  print(\"O primeiro número é o maior: \", num1)\n",
        "elif num2 > num1 and num3 and num4 and num5:\n",
        "  print(\"O segundo número é o maior: \", num2)\n",
        "elif num3 > num1 and num2 and num4 and num5:\n",
        "  print(\"O terceiro número é o maior: \", num3)\n",
        "elif num4 > num1 and num2 and num3 and num5:\n",
        "  print(\"O quarto número é o maior: \", num4)\n",
        "elif num5 > num1 and num2 and num3 and num4:\n",
        "  print(\"O quinto número é o maior: \", num5)"
      ]
    },
    {
      "cell_type": "code",
      "execution_count": null,
      "metadata": {
        "colab": {
          "base_uri": "https://localhost:8080/"
        },
        "id": "-mmo9bEsR0fL",
        "outputId": "85e355ab-2b9f-4f96-81d4-9cc3a3c1e338"
      },
      "outputs": [
        {
          "name": "stdout",
          "output_type": "stream",
          "text": [
            "Digite o primeiro numero--> 5\n",
            "Digite o segundo numero--> 4\n",
            "Digite o terceiro numero--> 3\n",
            "Digite o quarto numero--> 2\n",
            "Digite o quinto numero--> 1\n",
            "A soma é: 15.0\n",
            "A média é 3.0\n"
          ]
        }
      ],
      "source": [
        "# 8 - Faça um programa que leia 5 números e informe a soma e a média dos números.\n",
        "\n",
        "num1=float(input(\"Digite o primeiro numero--> \"))\n",
        "num2=float(input(\"Digite o segundo numero--> \"))\n",
        "num3=float(input(\"Digite o terceiro numero--> \"))\n",
        "num4=float(input(\"Digite o quarto numero--> \"))\n",
        "num5=float(input(\"Digite o quinto numero--> \"))\n",
        "soma=num1+num2+num3+num4+num5\n",
        "print(\"A soma é:\",soma,)\n",
        "print(\"A média é\",soma/5)"
      ]
    },
    {
      "cell_type": "code",
      "execution_count": null,
      "metadata": {
        "colab": {
          "base_uri": "https://localhost:8080/"
        },
        "id": "BqY6ZpAJUATl",
        "outputId": "1ecd6a55-a2fc-434f-afba-6a6830797c4c"
      },
      "outputs": [
        {
          "name": "stdout",
          "output_type": "stream",
          "text": [
            "1\n",
            "3\n",
            "5\n",
            "7\n",
            "9\n",
            "11\n",
            "13\n",
            "15\n",
            "17\n",
            "19\n",
            "21\n",
            "23\n",
            "25\n",
            "27\n",
            "29\n",
            "31\n",
            "33\n",
            "35\n",
            "37\n",
            "39\n",
            "41\n",
            "43\n",
            "45\n",
            "47\n",
            "49\n"
          ]
        }
      ],
      "source": [
        "# 9 - Faça um programa que imprima na tela apenas os números ímpares entre 1 e 50.\n",
        "\n",
        "for i in range(1,51,2):\n",
        "  print(i)"
      ]
    },
    {
      "cell_type": "code",
      "execution_count": null,
      "metadata": {
        "colab": {
          "base_uri": "https://localhost:8080/"
        },
        "id": "4YwwnGKuUhQD",
        "outputId": "73cb1842-c613-4998-d8bf-a8b8d022ab5e"
      },
      "outputs": [
        {
          "name": "stdout",
          "output_type": "stream",
          "text": [
            "Insira um numero: 1\n",
            "Insira outro numero: 10\n",
            "1\n",
            "2\n",
            "3\n",
            "4\n",
            "5\n",
            "6\n",
            "7\n",
            "8\n",
            "9\n"
          ]
        }
      ],
      "source": [
        "# 10 - Faça um programa que receba dois números inteiros e gere os números inteiros que estão no intervalo compreendido por eles.\n",
        "\n",
        "numero1=int(input(\"Insira um numero: \"))\n",
        "numero2=int(input(\"Insira outro numero: \"))\n",
        "while n2<n1:\n",
        "\tnumero1=int(input(\"Insira um numero: \"))\n",
        "\tnumero2=int(input(\"Insira outro numero: \"))\n",
        "else:\n",
        "\tfor i in range(numero1,numero2,1):\n",
        "\t\tprint(i)"
      ]
    },
    {
      "cell_type": "code",
      "execution_count": null,
      "metadata": {
        "colab": {
          "base_uri": "https://localhost:8080/"
        },
        "id": "r-mxKa5QW_gD",
        "outputId": "3d19a9e6-a96a-4c79-fe37-be14c8514db6"
      },
      "outputs": [
        {
          "name": "stdout",
          "output_type": "stream",
          "text": [
            "Digite menor número do intervalo: 1\n",
            "Digite maior numero do intervalo: 9\n",
            "1\n",
            "2\n",
            "3\n",
            "4\n",
            "5\n",
            "6\n",
            "7\n",
            "8\n",
            "9\n",
            "A soma dos números digitados é:  10\n"
          ]
        }
      ],
      "source": [
        "# 11 - Altere o programa anterior para mostrar no final a soma dos números.\n",
        "\n",
        "a = int(input(\"Digite menor número do intervalo: \"))\n",
        "b = int(input(\"Digite maior numero do intervalo: \"))\n",
        "i = a\n",
        "while i <= b:\n",
        "  print(i)\n",
        "  i = i + 1\n",
        "print(\"A soma dos números digitados é: \" , (a+b))"
      ]
    },
    {
      "cell_type": "code",
      "execution_count": null,
      "metadata": {
        "colab": {
          "base_uri": "https://localhost:8080/"
        },
        "id": "jKBxYgJFXfwN",
        "outputId": "d95d2bb5-979a-47e6-ec56-c13a40159d87"
      },
      "outputs": [
        {
          "name": "stdout",
          "output_type": "stream",
          "text": [
            "Insira um número entre 1 à 10: 10\n",
            "10 X 1 = 10\n",
            "10 X 2 = 20\n",
            "10 X 3 = 30\n",
            "10 X 4 = 40\n",
            "10 X 5 = 50\n",
            "10 X 6 = 60\n",
            "10 X 7 = 70\n",
            "10 X 8 = 80\n",
            "10 X 9 = 90\n",
            "10 X 10 = 100\n"
          ]
        }
      ],
      "source": [
        "# 12 - Desenvolva um gerador de tabuada, capaz de gerar a tabuada de qualquer número inteiro entre 1 a 10. O usuário deve informar de qual numero ele deseja ver a tabuada. A saída deve ser conforme o exemplo abaixo:\n",
        "# Tabuada de 5:\n",
        "# 5 X 1 = 5\n",
        "# 5 X 2 = 10\n",
        "# ...\n",
        "# 5 X 10 = 50\n",
        "\n",
        "numero = int(input(\"Insira um número entre 1 à 10: \"))\n",
        "for i in range(1, 11):\n",
        "    print(f\"{numero} X {i} = {numero * i}\")"
      ]
    },
    {
      "cell_type": "code",
      "execution_count": null,
      "metadata": {
        "colab": {
          "base_uri": "https://localhost:8080/"
        },
        "id": "pQwJzP8BYDuD",
        "outputId": "6075e10a-839b-4fa0-d9b7-d26256610a2f"
      },
      "outputs": [
        {
          "name": "stdout",
          "output_type": "stream",
          "text": [
            "Digite o valor da base: 5\n",
            "Digite o valor do expoente: 2\n",
            "5 ^ 2 = 25\n"
          ]
        }
      ],
      "source": [
        "# 13 - Faça um programa que peça dois números, base e expoente, calcule e mostre o primeiro número elevado ao segundo número. Não utilize a função de potência da linguagem.\n",
        "\n",
        "base=int(input(\"Digite o valor da base: \"))\n",
        "expoente=int(input(\"Digite o valor do expoente: \"))\n",
        "potencia=1\n",
        "resultado=1\n",
        "while resultado <= expoente:\n",
        "  potencia *= base\n",
        "  resultado +=1\n",
        "print(base,\"^\",expoente,\"=\",potencia)"
      ]
    },
    {
      "cell_type": "code",
      "execution_count": null,
      "metadata": {
        "colab": {
          "base_uri": "https://localhost:8080/"
        },
        "id": "J_XxFbMuaOOz",
        "outputId": "dc53fe68-4bf2-4bb0-9d50-bbb569a12f86"
      },
      "outputs": [
        {
          "name": "stdout",
          "output_type": "stream",
          "text": [
            "Digite 10 números iteiros: \n",
            "\n",
            "Digite o primeiro número: 1\n",
            "Digite o segundo número: 2\n",
            "Digite o terceiro número: 3\n",
            "Digite o quarto número: 4\n",
            "Digite o quinto número: 5\n",
            "Digite o sexto número: 6\n",
            "Digite o sétimo número: 7\n",
            "Digite o oitavo número: 8\n",
            "Digite o nono número: 9\n",
            "Digite o décimo número: 10\n",
            "Total de número pares: 5\n",
            "Total de números ímpares 5\n"
          ]
        }
      ],
      "source": [
        "# 14 - Faça um programa que peça 10 números inteiros, calcule e mostre a quantidade de números pares e a quantidade de números impares.\n",
        "\n",
        "print(\"Digite 10 números iteiros:\")\n",
        "n1 = int(input(\"\\nDigite o primeiro número: \"))\n",
        "n2 = int(input(\"Digite o segundo número: \"))\n",
        "n3 = int(input(\"Digite o terceiro número: \"))\n",
        "n4 = int(input(\"Digite o quarto número: \"))\n",
        "n5 = int(input(\"Digite o quinto número: \"))\n",
        "n6 = int(input(\"Digite o sexto número: \"))\n",
        "n7 = int(input(\"Digite o sétimo número: \"))\n",
        "n8 = int(input(\"Digite o oitavo número: \"))\n",
        "n9 = int(input(\"Digite o nono número: \"))\n",
        "n10 = int(input(\"Digite o décimo número: \"))\n",
        "list1 = [n1, n2, n3, n4, n5, n6, n7, n8, n9, n10]\n",
        "\n",
        "par = 0\n",
        "impar = 0\n",
        "for value in list1:\n",
        "    if value % 2 == 0:\n",
        "        par = par + 1\n",
        "    else:\n",
        "        impar = impar + 1\n",
        "print(\"Total de número pares:\", par)\n",
        "print(\"Total de números ímpares\", impar)"
      ]
    },
    {
      "cell_type": "code",
      "execution_count": null,
      "metadata": {
        "colab": {
          "base_uri": "https://localhost:8080/"
        },
        "id": "WIwQSpQpckVB",
        "outputId": "cf69fb2f-dc42-4d57-b976-112815413b69"
      },
      "outputs": [
        {
          "name": "stdout",
          "output_type": "stream",
          "text": [
            "Digite a quantidade de termos que deseja: 20\n",
            "1\n",
            "1\n",
            "2\n",
            "3\n",
            "5\n",
            "8\n",
            "13\n",
            "21\n",
            "34\n",
            "55\n",
            "89\n",
            "144\n",
            "233\n",
            "377\n",
            "610\n",
            "987\n",
            "1597\n",
            "2584\n",
            "4181\n",
            "6765\n",
            "10946\n",
            "17711\n"
          ]
        }
      ],
      "source": [
        "# 15 - A série de Fibonacci é formada pela seqüência 1,1,2,3,5,8,13,21,34,55,... \n",
        "# Faça um programa capaz de gerar a série até o n−ésimo termo.\n",
        "\n",
        "quantidade = int(input(\"Digite a quantidade de termos que deseja: \"))\n",
        "anterior = 1\n",
        "posterior = 1\n",
        "resultado = 1\n",
        "print(anterior)\n",
        "print(posterior)\n",
        "while resultado <= quantidade:\n",
        "  termo = anterior + posterior\n",
        "  posterior = anterior\n",
        "  anterior = termo\n",
        "  resultado += 1\n",
        "  print(termo)"
      ]
    },
    {
      "cell_type": "code",
      "execution_count": null,
      "metadata": {
        "colab": {
          "base_uri": "https://localhost:8080/"
        },
        "id": "tWPE3uxoezuI",
        "outputId": "4c6a9dd7-7a1c-41f9-9744-39d34e863ec3"
      },
      "outputs": [
        {
          "name": "stdout",
          "output_type": "stream",
          "text": [
            "1\n",
            "1\n",
            "2\n",
            "3\n",
            "5\n",
            "8\n",
            "13\n",
            "21\n",
            "34\n",
            "55\n",
            "89\n",
            "144\n",
            "233\n",
            "377\n",
            "O valor seguinte será maior que 500\n"
          ]
        }
      ],
      "source": [
        "# 16 - A série de Fibonacci é formada pela seqüência 0,1,1,2,3,5,8,13,21,34,55,... Faça um programa que gere a série até que o valor seja maior que 500.\n",
        "\n",
        "anterior = 1\n",
        "posterior = 1\n",
        "print(anterior)\n",
        "print(posterior)\n",
        "termo = 0\n",
        "while termo < 500:\n",
        "  termo = anterior + posterior\n",
        "  posterior = anterior\n",
        "  anterior = termo\n",
        "  if termo < 500:\n",
        "    print(termo)\n",
        "  else:\n",
        "    print(\"O valor seguinte será maior que 500\")"
      ]
    },
    {
      "cell_type": "code",
      "execution_count": null,
      "metadata": {
        "colab": {
          "base_uri": "https://localhost:8080/"
        },
        "id": "6SNZJ9WugHr1",
        "outputId": "0a1a6ee3-08a2-4f3e-9731-94be9e920bcf"
      },
      "outputs": [
        {
          "name": "stdout",
          "output_type": "stream",
          "text": [
            "Insira o número que deseja calcular o valor fatorial: -1\n",
            "O número deve ser inteiro e positivo.\n",
            "Insira novamente o número que deseja calcular o valor fatorial: 10\n",
            "10! = 3628800\n"
          ]
        }
      ],
      "source": [
        "# Faça um programa que calcule o fatorial de um número inteiro fornecido pelo usuário. Ex.: 5!=5.4.3.2.1=120\n",
        "\n",
        "resposta = 1\n",
        "resultado = 1\n",
        "n = int(input(\"Insira o número que deseja calcular o valor fatorial: \"))\n",
        "while (n < 0):\n",
        "  print(\"O número inserido deve ser inteiro e positivo.\")\n",
        "  n = int(input(\"Insira novamente o número que deseja calcular o valor fatorial: \"))\n",
        "while resultado <= n:\n",
        "  resposta *= resultado\n",
        "  resultado += 1\n",
        "print(\"{}! = {}\" .format(n, resposta))"
      ]
    },
    {
      "cell_type": "code",
      "execution_count": null,
      "metadata": {
        "colab": {
          "base_uri": "https://localhost:8080/"
        },
        "id": "uzt0_XLDhP4U",
        "outputId": "3010ff53-bc8b-47a6-bdcb-a6ce9e79eebe"
      },
      "outputs": [
        {
          "name": "stdout",
          "output_type": "stream",
          "text": [
            "Quantos números deseja inserir? 5\n",
            "Digite um número: 1\n",
            "Digite um número: 2\n",
            "Digite um número: 3\n",
            "Digite um número: 4\n",
            "Digite um número: 5\n",
            "Lista:  [1.0, 2.0, 3.0, 4.0, 5.0] \n",
            "Maior:  5.0 \n",
            "Menor:  1.0\n",
            "Soma:  6.0\n"
          ]
        }
      ],
      "source": [
        "# 18 - Faça um programa que, dado um conjunto de N números, determine o menor valor, o maior valor e a soma dos valores.\n",
        "\n",
        "lista = []\n",
        "resultado = 0\n",
        "\n",
        "quantidade = int(input(\"Quantos números deseja inserir? \"))\n",
        "while quantidade != resultado:\n",
        "    numero = lista.append(float(input(\"Digite um número: \")))\n",
        "    resultado += 1\n",
        "\n",
        "print(\"Lista: \", lista, \"\\nMaior: \", max(lista), \"\\nMenor: \", min(lista))\n",
        "print(\"Soma: \", max(lista) + min(lista))"
      ]
    },
    {
      "cell_type": "code",
      "execution_count": null,
      "metadata": {
        "colab": {
          "base_uri": "https://localhost:8080/"
        },
        "id": "g-d-7iOTpSIN",
        "outputId": "6e463c74-b883-473a-9e37-90d30736ea1f"
      },
      "outputs": [
        {
          "name": "stdout",
          "output_type": "stream",
          "text": [
            "Digite quantos números que deseja iserir: 5\n",
            "Digite um número: 2000\n",
            "Os valores devem estar entre 0 e 1000. Digite quantos números que deseja iserir: 1\n",
            "Digite um número: 2\n",
            "Digite um número: 3\n",
            "Digite um número: 4\n",
            "Digite um número: 5\n",
            "Lista:  [1.0, 2.0, 3.0, 4.0, 5.0] \n",
            "Maior:  5.0 \n",
            "Menor:  1.0\n",
            "Soma:  6.0\n"
          ]
        }
      ],
      "source": [
        "# 19 - Altere o programa anterior para que ele aceite apenas números entre 0 e 1000.\n",
        "\n",
        "lista = []\n",
        "resultado = 0\n",
        "quant = int(input(\"Digite quantos números que deseja iserir: \"))\n",
        "while quant != resultado:\n",
        "  numero = float(input(\"Digite um número: \"))\n",
        "  while (numero <= 0) or (numero >= 1000):\n",
        "    numero = float(input(\"Os valores devem estar entre 0 e 1000. Digite quantos números que deseja iserir: \"))\n",
        "  lista.append(numero)\n",
        "  resultado += 1\n",
        "print(\"Lista: \", lista, \"\\nMaior: \", max(lista), \"\\nMenor: \", min(lista))\n",
        "print(\"Soma: \", max(lista) + min(lista))"
      ]
    },
    {
      "cell_type": "code",
      "execution_count": null,
      "metadata": {
        "colab": {
          "base_uri": "https://localhost:8080/",
          "height": 356
        },
        "id": "wIrQ9LsuvLt3",
        "outputId": "8441e2bb-4aac-4d42-a6b4-f7ec03b71fe3"
      },
      "outputs": [
        {
          "name": "stdout",
          "output_type": "stream",
          "text": [
            "Digite um valor entre 0 e 15: 16\n",
            "Número inválido, digite outro valor: 15\n",
            "Deseja continuar? Digite (S) para sim ou (N) para não:s\n",
            "Digite um valor entre 0 e 15: 14\n",
            "O resultado é 182\n",
            "Deseja continuar? Digite (S) para sim ou (N) para não:n\n",
            "Digite um valor entre 0 e 15: n\n"
          ]
        },
        {
          "ename": "ValueError",
          "evalue": "ignored",
          "output_type": "error",
          "traceback": [
            "\u001b[0;31m---------------------------------------------------------------------------\u001b[0m",
            "\u001b[0;31mValueError\u001b[0m                                Traceback (most recent call last)",
            "\u001b[0;32m<ipython-input-1-3d3695c707ea>\u001b[0m in \u001b[0;36m<module>\u001b[0;34m\u001b[0m\n\u001b[1;32m      2\u001b[0m \u001b[0;34m\u001b[0m\u001b[0m\n\u001b[1;32m      3\u001b[0m \u001b[0;32mwhile\u001b[0m \u001b[0;36m1\u001b[0m\u001b[0;34m==\u001b[0m\u001b[0;36m1\u001b[0m\u001b[0;34m:\u001b[0m\u001b[0;34m\u001b[0m\u001b[0;34m\u001b[0m\u001b[0m\n\u001b[0;32m----> 4\u001b[0;31m   \u001b[0mnum\u001b[0m\u001b[0;34m=\u001b[0m\u001b[0mint\u001b[0m\u001b[0;34m(\u001b[0m\u001b[0minput\u001b[0m\u001b[0;34m(\u001b[0m\u001b[0;34m\"Digite um valor entre 0 e 15: \"\u001b[0m\u001b[0;34m)\u001b[0m\u001b[0;34m)\u001b[0m\u001b[0;34m\u001b[0m\u001b[0;34m\u001b[0m\u001b[0m\n\u001b[0m\u001b[1;32m      5\u001b[0m   \u001b[0;32mif\u001b[0m \u001b[0mnum\u001b[0m\u001b[0;34m<\u001b[0m\u001b[0;36m0\u001b[0m \u001b[0;32mor\u001b[0m \u001b[0mnum\u001b[0m\u001b[0;34m>\u001b[0m\u001b[0;36m15\u001b[0m\u001b[0;34m:\u001b[0m\u001b[0;34m\u001b[0m\u001b[0;34m\u001b[0m\u001b[0m\n\u001b[1;32m      6\u001b[0m     \u001b[0mnumero\u001b[0m\u001b[0;34m=\u001b[0m\u001b[0mint\u001b[0m\u001b[0;34m(\u001b[0m\u001b[0minput\u001b[0m\u001b[0;34m(\u001b[0m\u001b[0;34m\"Número inválido, digite outro valor: \"\u001b[0m\u001b[0;34m)\u001b[0m\u001b[0;34m)\u001b[0m\u001b[0;34m\u001b[0m\u001b[0;34m\u001b[0m\u001b[0m\n",
            "\u001b[0;31mValueError\u001b[0m: invalid literal for int() with base 10: 'n'"
          ]
        }
      ],
      "source": [
        "# 20 - Altere o programa de cálculo do fatorial, permitindo ao usuário calcular o fatorial várias vezes e limitando o fatorial a números inteiros positivos e menores que 16.\n",
        "\n",
        "while 1==1:\n",
        "  num=int(input(\"Digite um valor entre 0 e 15: \"))\n",
        "  if num<0 or num>15:\n",
        "    numero=int(input(\"Número inválido, digite outro valor: \"))\n",
        "  else:\n",
        "    fatorial = num\n",
        "    if fatorial>0:\n",
        "      fatorial = fatorial-1\n",
        "      num=num*fatorial\n",
        "      print(\"O resultado é\", num)\n",
        "  resp=input(\"Deseja continuar? Digite (S) para sim ou (N) para não:\")"
      ]
    },
    {
      "cell_type": "code",
      "execution_count": null,
      "metadata": {
        "colab": {
          "base_uri": "https://localhost:8080/"
        },
        "id": "xHwrgJWDRHL8",
        "outputId": "8c6ee516-bb06-499b-b0eb-df680924b39a"
      },
      "outputs": [
        {
          "name": "stdout",
          "output_type": "stream",
          "text": [
            "\n",
            "Insira um número inteiro: 5\n",
            "O número insirido é um número primo\n"
          ]
        }
      ],
      "source": [
        "# 21 - Faça um programa que peça um número inteiro e determine se ele é ou não um número primo. Um número primo é aquele que é divisível somente por ele mesmo e por 1.\n",
        "\n",
        "numero = int(input(\"\\nInsira um número inteiro: \"))\n",
        "if numero % 2 == 0 and numero != 2:\n",
        "  print(\"O número insrido não é um número primo\")\n",
        "else:\n",
        "  print(\"O número insirido é um número primo\")"
      ]
    },
    {
      "cell_type": "code",
      "execution_count": null,
      "metadata": {
        "colab": {
          "base_uri": "https://localhost:8080/"
        },
        "id": "u-ZX1tq6PZIu",
        "outputId": "564cff80-a015-4296-a6e0-fea21dc123da"
      },
      "outputs": [
        {
          "name": "stdout",
          "output_type": "stream",
          "text": [
            "\n",
            "Insira um número inteiro para saber se é ou não um número primo: 5\n",
            "O número digitado é primo, porque é divisível por:  [1, 5]\n"
          ]
        }
      ],
      "source": [
        "# 22 - Altere o programa de cálculo dos números primos, informando, caso o número não seja primo, por quais número ele é divisível.\n",
        "\n",
        "num = int(input (\"\\nInsira um número inteiro para saber se é ou não um número primo: \"))\n",
        "result = 0\n",
        "div = []\n",
        "for i in range(num):\n",
        "  if num%(i+1) == 0:\n",
        "    result += 1\n",
        "    div.append(i+1)\n",
        "  else:\n",
        "    result\n",
        "if result == 2:\n",
        "  print(\"O número digitado é primo, porque é divisível por: \",div)\n",
        "else:\n",
        "  print(\"O numero não é primo, porque é divisivel por: \",div)"
      ]
    },
    {
      "cell_type": "code",
      "execution_count": null,
      "metadata": {
        "colab": {
          "base_uri": "https://localhost:8080/"
        },
        "id": "NxnqkAGyTuzj",
        "outputId": "f261b270-97db-443b-df43-eca3f598a146"
      },
      "outputs": [
        {
          "output_type": "stream",
          "name": "stdout",
          "text": [
            "Informe até qual número deseja saber os números primos: 50\n",
            "[1, 2, 3, 5, 7, 11, 13, 17, 19, 23, 29, 31, 37, 41, 43, 47]\n"
          ]
        }
      ],
      "source": [
        "# 23 - Faça um programa que mostre todos os primos entre 1 e N sendo N um número inteiro fornecido pelo usuário. O programa deverá mostrar também o número de divisões que ele executou para encontrar os números primos. Serão avaliados o funcionamento, o estilo e o número de testes (divisões) executados.\n",
        "\n",
        "import math\n",
        "def primo(n):\n",
        "  if n <= 0:\n",
        "    return\n",
        "  else:\n",
        "    for d in range (2, int(math.sqrt(n) + 1)):\n",
        "      if n % d == 0:\n",
        "        return\n",
        "  return n\n",
        "lista = []\n",
        "n = int(input(\"Informe até qual número deseja saber os números primos: \"))\n",
        "for i in range (+ n + 1):\n",
        "  valor = primo(i)\n",
        "  if valor is not None:\n",
        "    lista.append(valor)\n",
        "print(lista)"
      ]
    },
    {
      "cell_type": "code",
      "execution_count": null,
      "metadata": {
        "colab": {
          "base_uri": "https://localhost:8080/"
        },
        "id": "S2eohJDyZqLJ",
        "outputId": "dcd0b209-d6e2-4526-fcad-2cdc6a4857d8"
      },
      "outputs": [
        {
          "name": "stdout",
          "output_type": "stream",
          "text": [
            "Insira a primeira nota: 10\n",
            "Insira a segunda nota: 6\n",
            "Insira a terceira nota:5\n",
            "A média das notas informadas é:  7.0\n"
          ]
        }
      ],
      "source": [
        "# 24 - Faça um programa que calcule o mostre a média aritmética de N notas.\n",
        "\n",
        "n1 = float(input( \"Insira a primeira nota: \"))\n",
        "n2 = float(input( \"Insira a segunda nota: \"))\n",
        "n3 = float(input( \"Insira a terceira nota:\"))\n",
        "media = (n1+n2+n3) / 3\n",
        "print( \"A média das notas informadas é: \", media)"
      ]
    },
    {
      "cell_type": "code",
      "execution_count": null,
      "metadata": {
        "colab": {
          "base_uri": "https://localhost:8080/"
        },
        "id": "r3BY0tzBbjsv",
        "outputId": "38be211f-a244-4f9d-a71f-1c412a764a1c"
      },
      "outputs": [
        {
          "name": "stdout",
          "output_type": "stream",
          "text": [
            "Informe número dee pessoas que deseja informar a idade: 5\n",
            "Informe a idade da pessoa: 50\n",
            "Informe a idade da pessoa: 40\n",
            "Informe a idade da pessoa: 60\n",
            "Informe a idade da pessoa: 30\n",
            "Informe a idade da pessoa: 10\n",
            "A média da turma é adulta\n"
          ]
        }
      ],
      "source": [
        "# 25 - Faça um programa que peça para n pessoas a sua idade, ao final o programa devera verificar se a média de idade da turma varia entre 0 e 25,26 e 60 e maior que 60; e então, dizer se a turma é jovem, adulta ou idosa, conforme a média calculada.\n",
        "\n",
        "npessoas = int(input(\"Informe número dee pessoas que deseja informar a idade: \"))\n",
        "lista = []\n",
        "for i in range(npessoas):\n",
        "  idade = lista.append(int(input(\"Informe a idade da pessoa: \")))\n",
        "if sum(lista) / len(lista) < 25:\n",
        "  print(\"A média da turma é jovem\")\n",
        "elif sum(lista) / len(lista) >= 25 and sum(lista) / len(lista) < 60:\n",
        "  print(\"A média da turma é adulta\")\n",
        "else:\n",
        "  print(\"A média da turma é idosa\")"
      ]
    },
    {
      "cell_type": "code",
      "execution_count": null,
      "metadata": {
        "colab": {
          "base_uri": "https://localhost:8080/"
        },
        "id": "pjWAkmQ5bntn",
        "outputId": "7483ad0e-84d1-4c99-8c8d-f44447b0c2cb"
      },
      "outputs": [
        {
          "name": "stdout",
          "output_type": "stream",
          "text": [
            "Informe a quantidade de eleitores: 5\n",
            "Em qual dos candidato deseja votar? [1, 2, 3]: 3\n",
            "Em qual dos candidato deseja votar? [1, 2, 3]: 2\n",
            "Em qual dos candidato deseja votar? [1, 2, 3]: 1\n",
            "Em qual dos candidato deseja votar? [1, 2, 3]: 2\n",
            "Em qual dos candidato deseja votar? [1, 2, 3]: 3\n",
            "Número de votos para o candidato 1:  1\n",
            "Número de votos para o candidato 2:  2\n",
            "Número de votos para o candidato 3:  2\n"
          ]
        }
      ],
      "source": [
        "# 26 - Numa eleição existem três candidatos. Faça um programa que peça o número total de eleitores. Peça para cada eleitor votar e ao final mostrar o número de votos de cada candidato.\n",
        "\n",
        "eleitores = int(input(\"Informe a quantidade de eleitores: \"))\n",
        "votos = []\n",
        "for i in range(eleitores):\n",
        "  voto = votos.append(int(input(\"Em qual dos candidato deseja votar? [1, 2, 3]: \")))\n",
        "print(\"Número de votos para o candidato 1: \", votos.count(1))\n",
        "print(\"Número de votos para o candidato 2: \", votos.count(2))\n",
        "print(\"Número de votos para o candidato 3: \", votos.count(3))"
      ]
    },
    {
      "cell_type": "code",
      "execution_count": null,
      "metadata": {
        "colab": {
          "base_uri": "https://localhost:8080/"
        },
        "id": "xwb9QkwgfQsV",
        "outputId": "c85c5c73-86d0-4c3f-f920-d6fdba4cb8ef"
      },
      "outputs": [
        {
          "name": "stdout",
          "output_type": "stream",
          "text": [
            "Quantas turmas dseja informar? 3\n",
            "turma  1\n",
            "Isira a quantidade de alunos da turma: 50\n",
            "turma 1 [Cada turma só pode conter até 40 alunos]\n",
            "Insira novamente a quantidade de alunos da turma: 40\n",
            "turma  2\n",
            "Isira a quantidade de alunos da turma: 30\n",
            "turma  3\n",
            "Isira a quantidade de alunos da turma: 25\n",
            "A média de alunos é igual a:  31.666666666666668\n"
          ]
        }
      ],
      "source": [
        "# 27 - Faça um programa que calcule o número médio de alunos por turma. Para isto, peça a quantidade de turmas e a quantidade de alunos para cada turma. As turmas não podem ter mais de 40 alunos.\n",
        "\n",
        "turmas = int(input(\"Quantas turmas dseja informar? \"))\n",
        "alunos_turmas = []\n",
        "turma = 1\n",
        "for i in range(turmas):\n",
        "    print(\"turma \", turma)\n",
        "    alunos = int(input(\"Isira a quantidade de alunos da turma: \"))\n",
        "    while alunos > 40:\n",
        "        print(\"turma\", turma, \"[Cada turma só pode conter até 40 alunos]\")\n",
        "        alunos = int(input(\"Insira novamente a quantidade de alunos da turma: \"))\n",
        "    turma += 1\n",
        "    alunos_turmas.append(alunos)\n",
        "media = sum(alunos_turmas) / len(alunos_turmas)\n",
        "print(\"A média de alunos é igual a: \", media)"
      ]
    },
    {
      "cell_type": "code",
      "execution_count": null,
      "metadata": {
        "colab": {
          "base_uri": "https://localhost:8080/"
        },
        "id": "ofpgVEF8fHXX",
        "outputId": "f26aac78-be62-4424-d04d-ebb66970d0ff"
      },
      "outputs": [
        {
          "name": "stdout",
          "output_type": "stream",
          "text": [
            "Qual a quantidade de CD's: 3\n",
            "CD número  1\n",
            "Insira o valor do CD: 50\n",
            "CD número  2\n",
            "Insira o valor do CD: 40\n",
            "CD número  3\n",
            "Insira o valor do CD: 30\n",
            "A media para cada CD é:  40.0\n"
          ]
        }
      ],
      "source": [
        "# 28 - Faça um programa que calcule o valor total investido por um colecionador em sua coleção de CDs e o valor médio gasto em cada um deles. O usuário deverá informar a quantidade de CDs e o valor para em cada um.\n",
        "\n",
        "qtdcds = int(input(\"Qual a quantidade de CD's: \"))\n",
        "cds = []\n",
        "n_cd = 1\n",
        "\n",
        "for i in range(qtdcds):\n",
        "    print(\"CD número \", n_cd)\n",
        "    valor = cds.append(float(input(\"Insira o valor do CD: \")))\n",
        "    n_cd += 1\n",
        "\n",
        "media = sum(cds) / len(cds)\n",
        "print(\"A media para cada CD é: \", media)"
      ]
    },
    {
      "cell_type": "code",
      "execution_count": null,
      "metadata": {
        "colab": {
          "base_uri": "https://localhost:8080/"
        },
        "id": "j6czgrf8esQP",
        "outputId": "30671390-7eaf-4b75-edba-e57d05accbbf"
      },
      "outputs": [
        {
          "name": "stdout",
          "output_type": "stream",
          "text": [
            "\n",
            "Lojas Quase Dois - Tabelas de preço por quantidade de item:\n",
            "\n",
            "01 - R$ 1.99\n",
            "02 - R$ 3.98\n",
            "03 - R$ 5.97\n",
            "04 - R$ 7.96\n",
            "05 - R$ 9.95\n",
            "06 - R$ 11.94\n",
            "07 - R$ 13.93\n",
            "08 - R$ 15.92\n",
            "09 - R$ 17.91\n",
            "10 - R$ 19.90\n",
            "11 - R$ 21.89\n",
            "12 - R$ 23.88\n",
            "13 - R$ 25.87\n",
            "14 - R$ 27.86\n",
            "15 - R$ 29.85\n",
            "16 - R$ 31.84\n",
            "17 - R$ 33.83\n",
            "18 - R$ 35.82\n",
            "19 - R$ 37.81\n",
            "20 - R$ 39.80\n",
            "21 - R$ 41.79\n",
            "22 - R$ 43.78\n",
            "23 - R$ 45.77\n",
            "24 - R$ 47.76\n",
            "25 - R$ 49.75\n",
            "26 - R$ 51.74\n",
            "27 - R$ 53.73\n",
            "28 - R$ 55.72\n",
            "29 - R$ 57.71\n",
            "30 - R$ 59.70\n",
            "31 - R$ 61.69\n",
            "32 - R$ 63.68\n",
            "33 - R$ 65.67\n",
            "34 - R$ 67.66\n",
            "35 - R$ 69.65\n",
            "36 - R$ 71.64\n",
            "37 - R$ 73.63\n",
            "38 - R$ 75.62\n",
            "39 - R$ 77.61\n",
            "40 - R$ 79.60\n",
            "41 - R$ 81.59\n",
            "42 - R$ 83.58\n",
            "43 - R$ 85.57\n",
            "44 - R$ 87.56\n",
            "45 - R$ 89.55\n",
            "46 - R$ 91.54\n",
            "47 - R$ 93.53\n",
            "48 - R$ 95.52\n",
            "49 - R$ 97.51\n",
            "50 - R$ 99.50\n"
          ]
        }
      ],
      "source": [
        "# 29 - O Sr. Manoel Joaquim possui uma grande loja de artigos de R$ 1,99, com cerca de 10 caixas. \n",
        "# Para agilizar o cálculo de quanto cada cliente deve pagar ele desenvolveu um tabela que contém o número de itens que o cliente comprou e ao lado o valor da conta. \n",
        "# Desta forma a atendente do caixa precisa apenas contar quantos itens o cliente está levando e olhar na tabela de preços. \n",
        "# Você foi contratado para desenvolver o programa que monta esta tabela de preços, que conterá os preços de 1 até 50 produtos, conforme o exemplo abaixo:\n",
        "# Lojas Quase Dois - Tabela de preços\n",
        "# 1 - R$ 1.99\n",
        "# 2 - R$ 3.98\n",
        "# ...\n",
        "# 50 - R$ 99.50\n",
        "\n",
        "valor = 1.99\n",
        "print(\"\\nLojas Quase Dois - Tabelas de preço por quantidade de item:\\n\")\n",
        "for x in range(1,51):\n",
        "    print(\"%02.d - R$ %.2f\"%(x, x*valor))"
      ]
    },
    {
      "cell_type": "code",
      "execution_count": null,
      "metadata": {
        "colab": {
          "base_uri": "https://localhost:8080/"
        },
        "id": "46TsMLzjihvU",
        "outputId": "d92344da-1650-4502-f0c7-ef2ae62ecd39"
      },
      "outputs": [
        {
          "name": "stdout",
          "output_type": "stream",
          "text": [
            "Preço do pão: 1\n",
            "Panificadora Pão de Ontem - Tabela de preços:\n",
            " 1 - R$  1.00\n",
            " 2 - R$  2.00\n",
            " 3 - R$  3.00\n",
            " 4 - R$  4.00\n",
            " 5 - R$  5.00\n",
            " 6 - R$  6.00\n",
            " 7 - R$  7.00\n",
            " 8 - R$  8.00\n",
            " 9 - R$  9.00\n",
            "10 - R$ 10.00\n",
            "11 - R$ 11.00\n",
            "12 - R$ 12.00\n",
            "13 - R$ 13.00\n",
            "14 - R$ 14.00\n",
            "15 - R$ 15.00\n",
            "16 - R$ 16.00\n",
            "17 - R$ 17.00\n",
            "18 - R$ 18.00\n",
            "19 - R$ 19.00\n",
            "20 - R$ 20.00\n",
            "21 - R$ 21.00\n",
            "22 - R$ 22.00\n",
            "23 - R$ 23.00\n",
            "24 - R$ 24.00\n",
            "25 - R$ 25.00\n",
            "26 - R$ 26.00\n",
            "27 - R$ 27.00\n",
            "28 - R$ 28.00\n",
            "29 - R$ 29.00\n",
            "30 - R$ 30.00\n",
            "31 - R$ 31.00\n",
            "32 - R$ 32.00\n",
            "33 - R$ 33.00\n",
            "34 - R$ 34.00\n",
            "35 - R$ 35.00\n",
            "36 - R$ 36.00\n",
            "37 - R$ 37.00\n",
            "38 - R$ 38.00\n",
            "39 - R$ 39.00\n",
            "40 - R$ 40.00\n",
            "41 - R$ 41.00\n",
            "42 - R$ 42.00\n",
            "43 - R$ 43.00\n",
            "44 - R$ 44.00\n",
            "45 - R$ 45.00\n",
            "46 - R$ 46.00\n",
            "47 - R$ 47.00\n",
            "48 - R$ 48.00\n",
            "49 - R$ 49.00\n",
            "50 - R$ 50.00\n"
          ]
        }
      ],
      "source": [
        "# 30 - O Sr. Manoel Joaquim acaba de adquirir uma panificadora e pretende implantar a metodologia da tabelinha, que já é um sucesso na sua loja de 1,99. \n",
        "# Você foi contratado para desenvolver o programa que monta a tabela de preços de pães, de 1 até 50 pães, a partir do preço do pão informado pelo usuário, conforme o exemplo abaixo:\n",
        "# Preço do pão: R$ 0.18\n",
        "# Panificadora Pão de Ontem - Tabela de preços\n",
        "# 1 - R$ 0.18\n",
        "# 2 - R$ 0.36\n",
        "# ...\n",
        "# 50 - R$ 9.00\n",
        "\n",
        "preco = float(input(\"Preço do pão: \"))\n",
        "print(\"Panificadora Pão de Ontem - Tabela de preços:\")\n",
        "for i in range(1, 51):\n",
        "    print(f\"{i:2d} - R$ {preco*i:5.2f}\")"
      ]
    },
    {
      "cell_type": "code",
      "execution_count": null,
      "metadata": {
        "colab": {
          "background_save": true,
          "base_uri": "https://localhost:8080/"
        },
        "id": "j0m9T9YSjYRJ",
        "outputId": "d3e6e277-9373-4889-e864-fa52721ace58"
      },
      "outputs": [
        {
          "name": "stdout",
          "output_type": "stream",
          "text": [
            "Produto n°  1\n",
            "Produto n°  2\n",
            "Produto n°  3\n",
            "Produto n°  4\n",
            "Produto n°  5\n",
            "Produto n°  6\n",
            "Produto n°  7\n",
            "Produto n°  8\n",
            "Produto n°  9\n",
            "Produto n°  10\n"
          ]
        }
      ],
      "source": [
        "# 31 - O Sr. Manoel Joaquim expandiu seus negócios para além dos negócios de 1,99 e agora possui uma loja de conveniências. \n",
        "# Faça um programa que implemente uma caixa registradora rudimentar. O programa deverá receber um número desconhecido de valores referentes aos preços das mercadorias. \n",
        "# Um valor zero deve ser informado pelo operador para indicar o final da compra. \n",
        "# O programa deve então mostrar o total da compra e perguntar o valor em dinheiro que o cliente forneceu, para então calcular e mostrar o valor do troco. \n",
        "# Após esta operação, o programa deverá voltar ao ponto inicial, para registrar a próxima compra. A saída deve ser conforme o exemplo abaixo:\n",
        "# Lojas Tabajara \n",
        "# Produto 1: R$ 2.20\n",
        "# Produto 2: R$ 5.80\n",
        "# Produto 3: R$ 0\n",
        "# Total: R$ 9.00\n",
        "# Dinheiro: R$ 20.00\n",
        "# Troco: R$ 11.00\n",
        "\n",
        "import time\n",
        "\n",
        "while True:\n",
        "    precos_produtos = []\n",
        "    preco_produto = True\n",
        "    n_produto = 1\n",
        "\n",
        "    while preco_produto != 0:\n",
        "        print(\"Produto n° \", n_produto)\n",
        "        preco_produto = float(input(\"Digite o preço do produto: \"))\n",
        "        precos_produtos.append(preco_produto)\n",
        "        n_produto += 1\n",
        "\n",
        "    print(\"Total: \", sum(precos_produtos))\n",
        "    dinheiro = float(input(\"Digite a quantida que irá pagar: \"))\n",
        "\n",
        "    while dinheiro < sum(precos_produtos):\n",
        "        dinheiro = float(input(\"Digite a quantida que irá pagar[maior que o total da compra] : \"))\n",
        "\n",
        "    print(\"Dinheiro: R$\", dinheiro)\n",
        "    print(\"Troco: R$\", dinheiro - sum(precos_produtos))\n",
        "    print(\"\\nPróxima compra em 3 segundos...\")\n",
        "    time.sleep(3)\n",
        "    print(\"\\n\" * 5)"
      ]
    },
    {
      "cell_type": "code",
      "source": [
        "# 32 - Faça um programa que calcule o fatorial de um número inteiro fornecido pelo usuário. Ex.: 5!=5.4.3.2.1=120. A saída deve ser conforme o exemplo abaixo:\n",
        "# Fatorial de: 5\n",
        "# 5! =  5 . 4 . 3 . 2 . 1 = 120\n",
        "\n",
        "import math\n",
        "numero = int(input(\"\\nInsira o número que deseja saber o valor fatorial: \"))\n",
        "result = numero\n",
        "fatorial = math.factorial(numero)\n",
        "\n",
        "for i in range(numero - 1):\n",
        "    print(result, end=\" * \")\n",
        "    result -= 1\n",
        "print(\"1 = \", fatorial)"
      ],
      "metadata": {
        "colab": {
          "base_uri": "https://localhost:8080/"
        },
        "id": "083hWcZ26AKo",
        "outputId": "270c1f9e-8347-4f14-cbb1-33c1dadc9a13"
      },
      "execution_count": null,
      "outputs": [
        {
          "output_type": "stream",
          "name": "stdout",
          "text": [
            "\n",
            "Insira o número que deseja saber o valor fatorial: 8\n",
            "8 * 7 * 6 * 5 * 4 * 3 * 2 * 1 =  40320\n"
          ]
        }
      ]
    },
    {
      "cell_type": "code",
      "source": [
        "# 33 - O Departamento Estadual de Meteorologia lhe contratou para desenvolver um programa que leia as um conjunto indeterminado de temperaturas, e informe ao final a menor e a maior temperaturas informadas, bem como a média das temperaturas.\n",
        "\n",
        "from math import inf\n",
        "\n",
        "maior = -inf\n",
        "menor = inf\n",
        "soma = 0\n",
        "contador = 0\n",
        "while True:\n",
        "  temperatura = float(input(\"Insira as temperaturas [Digite uma temperatura negativa para parar]: \"))\n",
        "  if temperatura < 0:\n",
        "    break\n",
        "  contador += 1\n",
        "  soma += temperatura\n",
        "  if temperatura < menor:\n",
        "    menor = temperatura\n",
        "  if temperatura > maior:\n",
        "    maior = temperatura\n",
        "print(f\"A menor temperatura foi {menor}ºC\")\n",
        "print(f\"A maior temperatura foi {maior}ºC\")\n",
        "print(f\"A média das temperaturas foi {soma / contador:.3f}ºC\")"
      ],
      "metadata": {
        "colab": {
          "base_uri": "https://localhost:8080/"
        },
        "id": "sEjV0gQC6nFC",
        "outputId": "5201c96b-385d-4d9b-ba0c-34c64295ae5a"
      },
      "execution_count": null,
      "outputs": [
        {
          "output_type": "stream",
          "name": "stdout",
          "text": [
            "Insira as temperaturas [Digite uma temperatura negativa para parar]: 20\n",
            "Insira as temperaturas [Digite uma temperatura negativa para parar]: 30\n",
            "Insira as temperaturas [Digite uma temperatura negativa para parar]: 15\n",
            "Insira as temperaturas [Digite uma temperatura negativa para parar]: -1\n",
            "A menor temperatura foi 15.0ºC\n",
            "A maior temperatura foi 30.0ºC\n",
            "A média das temperaturas foi 21.667ºC\n"
          ]
        }
      ]
    },
    {
      "cell_type": "code",
      "source": [
        "# 34 - Os números primos possuem várias aplicações dentro da Computação, por exemplo na Criptografia. \n",
        "# Um número primo é aquele que é divisível apenas por um e por ele mesmo. Faça um programa que peça um número inteiro e determine se ele é ou não um número primo.\n",
        "\n",
        "num = int(input(\"\\nDInforme um número para saber se ele é primo: \"))\n",
        "if num % 2 == 0 and num != 2:\n",
        "  print(\"Não é um número primo\")\n",
        "else:\n",
        "  print(\"É um número primo\")"
      ],
      "metadata": {
        "colab": {
          "base_uri": "https://localhost:8080/"
        },
        "id": "D3Cb8FA1_nY4",
        "outputId": "1351fd2c-3195-48bb-eb6d-c94d53c82588"
      },
      "execution_count": null,
      "outputs": [
        {
          "output_type": "stream",
          "name": "stdout",
          "text": [
            "\n",
            "DInforme um número para saber se ele é primo: 5\n",
            "É um número primo\n"
          ]
        }
      ]
    },
    {
      "cell_type": "code",
      "source": [
        "# 35 - Encontrar números primos é uma tarefa difícil. Faça um programa que gera uma lista dos números primos existentes entre 1 e um número inteiro informado pelo usuário.\n",
        "\n",
        "import math\n",
        "def primo(n):\n",
        "  if n <= 0:\n",
        "    return\n",
        "  else:\n",
        "    for d in range (2, int(math.sqrt(n) + 1)):\n",
        "      if n % d == 0:\n",
        "        return\n",
        "  return n\n",
        "lista = []\n",
        "n = int(input(\"Informe até qual número deseja saber os números primos: \"))\n",
        "for i in range (+ n + 1):\n",
        "  valor = primo(i)\n",
        "  if valor is not None:\n",
        "    lista.append(valor)\n",
        "print(lista)"
      ],
      "metadata": {
        "colab": {
          "base_uri": "https://localhost:8080/"
        },
        "id": "7DQqjVYfAN8U",
        "outputId": "8613331e-d831-4f54-c5c2-b1a955ba55cf"
      },
      "execution_count": null,
      "outputs": [
        {
          "output_type": "stream",
          "name": "stdout",
          "text": [
            "Informe até qual número deseja saber os números primos: 60\n",
            "[1, 2, 3, 5, 7, 11, 13, 17, 19, 23, 29, 31, 37, 41, 43, 47, 53, 59]\n"
          ]
        }
      ]
    },
    {
      "cell_type": "code",
      "source": [
        "# Desenvolva um programa que faça a tabuada de um número qualquer inteiro que será digitado pelo usuário, mas a tabuada não deve necessariamente iniciar em 1 e terminar em 10, o valor inicial e final devem ser informados também pelo usuário, \n",
        "# conforme exemplo abaixo:\n",
        "# Montar a tabuada de: 5\n",
        "# Começar por: 4\n",
        "# Terminar em: 7\n",
        "\n",
        "# Vou montar a tabuada de 5 começando em 4 e terminando em 7:\n",
        "# 5 X 4 = 20\n",
        "# 5 X 5 = 25\n",
        "# 5 X 6 = 30\n",
        "# 5 X 7 = 35\n",
        "\n",
        "n_tab = int(input(\"\\nQual número deseja saber a tabuada? \"))\n",
        "inicial = int(input(\"Iniciar tabuada no número: \"))\n",
        "final = int(input(\"Finalizar tabuada no número: \"))\n",
        "result = inicial\n",
        "for i in range(inicial, final + 1):\n",
        "  print(n_tab, \" X \", result, \" = \", n_tab * result)\n",
        "  result += 1"
      ],
      "metadata": {
        "colab": {
          "base_uri": "https://localhost:8080/"
        },
        "id": "RoqBVOwuEECZ",
        "outputId": "d0d75199-9da7-4992-d0eb-e1df72ea7779"
      },
      "execution_count": null,
      "outputs": [
        {
          "output_type": "stream",
          "name": "stdout",
          "text": [
            "\n",
            "Qual número deseja saber a tabuada? 6\n",
            "Iniciar tabuada no número: 4\n",
            "Finalizar tabuada no número: 8\n",
            "6  X  4  =  24\n",
            "6  X  5  =  30\n",
            "6  X  6  =  36\n",
            "6  X  7  =  42\n",
            "6  X  8  =  48\n"
          ]
        }
      ]
    },
    {
      "cell_type": "code",
      "source": [
        "# 37 - Uma academia deseja fazer um senso entre seus clientes para descobrir o mais alto, o mais baixo, a mais gordo e o mais magro, para isto você deve fazer um programa que pergunte a cada um dos clientes da academia seu código, \n",
        "# sua altura e seu peso. O final da digitação de dados deve ser dada quando o usuário digitar 0 (zero) no campo código. Ao encerrar o programa também deve ser informados os códigos e valores do clente mais alto, do mais baixo, \n",
        "# do mais gordo e do mais magro, além da média das alturas e dos pesos dos clientes\n",
        "\n",
        "cod_clientes = []\n",
        "altura_clientes = []\n",
        "peso_clientes = []\n",
        "n_cliente = 1\n",
        "codigo = True\n",
        "while codigo != 0:\n",
        "  print(\"\\nCliente n° \", n_cliente)\n",
        "  codigo = int(input(\"Isira o código: \"))\n",
        "  if codigo == 0:\n",
        "    break\n",
        "  else:\n",
        "    altura = float(input(\"Insira a altura: \"))\n",
        "    peso = float(input(\"Insira o peso: \"))\n",
        "    cod_clientes.append(codigo)\n",
        "    altura_clientes.append(altura)\n",
        "    peso_clientes.append(peso)\n",
        "  n_cliente += 1\n",
        "cod_magro = peso_clientes.index(min(peso_clientes))\n",
        "cod_gordo = peso_clientes.index(max(peso_clientes))\n",
        "cod_alto = altura_clientes.index(max(altura_clientes))\n",
        "cod_baixo = altura_clientes.index(min(altura_clientes))\n",
        "print(\"\\n\" * 5)\n",
        "print(\"Código do mais magro: \", cod_clientes[cod_magro])\n",
        "print(\"Código do mais gordo: \", cod_clientes[cod_gordo])\n",
        "print(\"Código do mais alto: \", cod_clientes[cod_alto])\n",
        "print(\"Código do mais baixo: \", cod_clientes[cod_baixo])\n",
        "print(\"Média de altura: \", sum(altura_clientes) / len(altura_clientes))\n",
        "print(\"Média de peso: \", sum(peso_clientes) / len(peso_clientes))"
      ],
      "metadata": {
        "colab": {
          "base_uri": "https://localhost:8080/"
        },
        "id": "PEBEPrW1FGh1",
        "outputId": "5dcd58ea-4d98-4147-ba4f-97589d78cb90"
      },
      "execution_count": null,
      "outputs": [
        {
          "output_type": "stream",
          "name": "stdout",
          "text": [
            "\n",
            "Cliente n°  1\n",
            "Digite o código: 1\n",
            "Digite a altura: 180\n",
            "Digite o peso: 90\n",
            "\n",
            "Cliente n°  2\n",
            "Digite o código: 2\n",
            "Digite a altura: 160\n",
            "Digite o peso: 60\n",
            "\n",
            "Cliente n°  3\n",
            "Digite o código: 3\n",
            "Digite a altura: 170\n",
            "Digite o peso: 70\n",
            "\n",
            "Cliente n°  4\n",
            "Digite o código: 0\n",
            "\n",
            "\n",
            "\n",
            "\n",
            "\n",
            "\n",
            "Código do mais magro:  2\n",
            "Código do mais gordo:  1\n",
            "Código do mais alto:  1\n",
            "Código do mais baixo:  2\n",
            "Média de altura:  170.0\n",
            "Média de peso:  73.33333333333333\n"
          ]
        }
      ]
    },
    {
      "cell_type": "code",
      "source": [
        "# 38 - # Um funcionário de uma empresa recebe aumento salarial anualmente: Sabe-se que:\n",
        "# Esse funcionário foi contratado em 1995, com salário inicial de R$ 1.000,00;\n",
        "# Em 1996 recebeu aumento de 1,5% sobre seu salário inicial;\n",
        "# A partir de 1997 (inclusive), os aumentos salariais sempre correspondem ao dobro do percentual do ano anterior. Faça um programa que determine o salário atual desse funcionário. Após concluir isto, \n",
        "# altere o programa permitindo que o usuário digite o salário inicial do funcionário.\n",
        "\n",
        "salario = float(input(\"Informe o primeiro salário do funcionario: \"))\n",
        "aumento = 0.1\n",
        "for i in range(1996, 2018 + 1):\n",
        "  aumento = aumento * 2\n",
        "  salario_atual = salario + (salario * (aumento / 100))\n",
        "  print(\"Salario em \", i, \" = \", salario_atual)"
      ],
      "metadata": {
        "colab": {
          "base_uri": "https://localhost:8080/"
        },
        "id": "-WRHzvyOF5ie",
        "outputId": "4247f94d-3860-4e73-d6ef-3742aaa08d79"
      },
      "execution_count": null,
      "outputs": [
        {
          "output_type": "stream",
          "name": "stdout",
          "text": [
            "Informe o primeiro salário do funcionario: 200\n",
            "Salario em  1996  =  200.4\n",
            "Salario em  1997  =  200.8\n",
            "Salario em  1998  =  201.6\n",
            "Salario em  1999  =  203.2\n",
            "Salario em  2000  =  206.4\n",
            "Salario em  2001  =  212.8\n",
            "Salario em  2002  =  225.6\n",
            "Salario em  2003  =  251.2\n",
            "Salario em  2004  =  302.4\n",
            "Salario em  2005  =  404.8\n",
            "Salario em  2006  =  609.6\n",
            "Salario em  2007  =  1019.2\n",
            "Salario em  2008  =  1838.4\n",
            "Salario em  2009  =  3476.8\n",
            "Salario em  2010  =  6753.6\n",
            "Salario em  2011  =  13307.2\n",
            "Salario em  2012  =  26414.4\n",
            "Salario em  2013  =  52628.8\n",
            "Salario em  2014  =  105057.6\n",
            "Salario em  2015  =  209915.2\n",
            "Salario em  2016  =  419630.4\n",
            "Salario em  2017  =  839060.8\n",
            "Salario em  2018  =  1677921.6\n"
          ]
        }
      ]
    },
    {
      "cell_type": "code",
      "source": [
        "# 39 - Faça um programa que leia dez conjuntos de dois valores, o primeiro representando o número do aluno e o segundo representando a sua altura em centímetros. \n",
        "# Encontre o aluno mais alto e o mais baixo. Mostre o número do aluno mais alto e o número do aluno mais baixo, junto com suas alturas.\n",
        "\n",
        "alunos = []\n",
        "altura = []\n",
        "\n",
        "for i in range(4):\n",
        "  print(\"\\nDigitação número \", i + 1,\" :\")\n",
        "  n_aluno = int(input(\"Digite o número do aluno: \"))\n",
        "  while n_aluno in alunos:\n",
        "    print(\"[Este número ja foi digitado]\")\n",
        "    n_aluno = int(input(\"Digite outro número: \"))\n",
        "  a_aluno = altura.append(float(input(\"Digite a altura do aluno: \")))\n",
        "  alunos.append(n_aluno)\n",
        "baixo = altura.index(min(altura))\n",
        "alto = altura.index(max(altura))\n",
        "print(\"O aluno mais baixo é o \\nNº: \", alunos[baixo], \"\\nAltura: \", min(altura))\n",
        "print(\"O aluno mais alto é o \\nNº: \", alunos[alto], \"\\nAltura: \", max(altura))"
      ],
      "metadata": {
        "colab": {
          "base_uri": "https://localhost:8080/"
        },
        "id": "pBozsy_RHelI",
        "outputId": "d1c14d63-292b-4cf2-d32b-429780fcf04e"
      },
      "execution_count": null,
      "outputs": [
        {
          "output_type": "stream",
          "name": "stdout",
          "text": [
            "\n",
            "Digitação número  1  :\n",
            "Digite o número do aluno: 1\n",
            "Digite a altura do aluno: 1.80\n",
            "\n",
            "Digitação número  2  :\n",
            "Digite o número do aluno: 2\n",
            "Digite a altura do aluno: 1.68\n",
            "\n",
            "Digitação número  3  :\n",
            "Digite o número do aluno: 3\n",
            "Digite a altura do aluno: 1.83\n",
            "\n",
            "Digitação número  4  :\n",
            "Digite o número do aluno: 4\n",
            "Digite a altura do aluno: 1.58\n",
            "O aluno mais baixo é o \n",
            "Nº:  4 \n",
            "Altura:  1.58\n",
            "O aluno mais alto é o \n",
            "Nº:  3 \n",
            "Altura:  1.83\n"
          ]
        }
      ]
    },
    {
      "cell_type": "code",
      "source": [
        "# 40 - Foi feita uma estatística em cinco cidades brasileiras para coletar dados sobre acidentes de trânsito. Foram obtidos os seguintes dados:\n",
        "# Código da cidade;\n",
        "# Número de veículos de passeio (em 1999);\n",
        "# Número de acidentes de trânsito com vítimas (em 1999). Deseja-se saber:\n",
        "# Qual o maior e menor índice de acidentes de transito e a que cidade pertence;\n",
        "# Qual a média de veículos nas cinco cidades juntas;\n",
        "# Qual a média de acidentes de trânsito nas cidades com menos de 2.000 veículos de passeio.\n",
        "\n",
        "cod_cidades = []\n",
        "n_veiculos = []\n",
        "n_acidentes = []\n",
        "acidentes_2000 = []\n",
        "\n",
        "for i in range(5):\n",
        "  print(\"\\nCidade número \", i + 1)\n",
        "  codigo_cidade = int(input(\"Digite o código da cidade: \"))\n",
        "  while codigo_cidade in cod_cidades:\n",
        "    print(\"[Código já digitado]\")\n",
        "    codigo_cidade = int(input(\"Digite outro código: \"))\n",
        "  acidentes = int(input(\"Digite quantos acidentes houve: \"))\n",
        "  numero_veiculos = int(input(\"Digite a quantidade de veiculos: \"))\n",
        "  if numero_veiculos > 2000:\n",
        "    acidentes_2000.append(acidentes)\n",
        "    n_acidentes.append(acidentes)\n",
        "  else:\n",
        "    n_acidentes.append(acidentes)\n",
        "  n_veiculos.append(numero_veiculos)\n",
        "  cod_cidades.append(codigo_cidade)\n",
        "indice_menor = n_acidentes.index(min(n_acidentes))\n",
        "indice_maior = n_acidentes.index(max(n_acidentes))\n",
        "print(\"\\nMenos acidentes\\nQuantidade de acidentes: \", min(n_acidentes), \"\\nCódigo da cidade: \", cod_cidades[indice_menor])\n",
        "print(\"\\nMais acidentes\\nQuantidade de acidentes: \", max(n_acidentes), \"\\nCódigo da cidade: \", cod_cidades[indice_maior])\n",
        "media_veiculos = sum(n_veiculos) / len(n_veiculos)\n",
        "print(\"\\nMédia de veiculos nas 5 cidades: \", media_veiculos)\n",
        "media_acidentes_2000 = sum(acidentes_2000) / len(acidentes_2000)\n",
        "print(\"\\nMédia de acidentes nas cidades com menos de 2000 veículos: \", media_acidentes_2000)"
      ],
      "metadata": {
        "colab": {
          "base_uri": "https://localhost:8080/"
        },
        "id": "aln8COsYJasg",
        "outputId": "726a385a-5375-445e-c9a6-cc9204fb347c"
      },
      "execution_count": null,
      "outputs": [
        {
          "output_type": "stream",
          "name": "stdout",
          "text": [
            "\n",
            "Cidade número  1\n",
            "Digite o código da cidade: 1\n",
            "Digite quantos acidentes houve: 100\n",
            "Digite a quantidade de veiculos: 1000\n",
            "\n",
            "Cidade número  2\n",
            "Digite o código da cidade: 2\n",
            "Digite quantos acidentes houve: 200\n",
            "Digite a quantidade de veiculos: 2000\n",
            "\n",
            "Cidade número  3\n",
            "Digite o código da cidade: 3\n",
            "Digite quantos acidentes houve: 300\n",
            "Digite a quantidade de veiculos: 3000\n",
            "\n",
            "Cidade número  4\n",
            "Digite o código da cidade: 4\n",
            "Digite quantos acidentes houve: 400\n",
            "Digite a quantidade de veiculos: 4000\n",
            "\n",
            "Cidade número  5\n",
            "Digite o código da cidade: 5\n",
            "Digite quantos acidentes houve: 500\n",
            "Digite a quantidade de veiculos: 5000\n",
            "\n",
            "Menos acidentes\n",
            "Quantidade de acidentes:  100 \n",
            "Código da cidade:  1\n",
            "\n",
            "Mais acidentes\n",
            "Quantidade de acidentes:  500 \n",
            "Código da cidade:  5\n",
            "\n",
            "Média de veiculos nas 5 cidades:  3000.0\n",
            "\n",
            "Média de acidentes nas cidades com menos de 2000 veículos:  400.0\n"
          ]
        }
      ]
    },
    {
      "cell_type": "code",
      "source": [
        "# 41 - Faça um programa que receba o valor de uma dívida e mostre uma tabela com os seguintes dados: valor da dívida, valor dos juros, quantidade de parcelas e valor da parcela.\n",
        "# Os juros e a quantidade de parcelas seguem a tabela abaixo:\n",
        "# Quantidade de Parcelas  % de Juros sobre o valor inicial da dívida\n",
        "# 1 - 0\n",
        "# 3 - 10\n",
        "# 6 - 15\n",
        "# 9 - 20\n",
        "# 12  - 25\n",
        "\n",
        "print(\"\\n\" * 5)\n",
        "divida = float(input(\"Digite o valor da divida: \"))\n",
        "parcela = 1\n",
        "print(\"\\n\" * 5)\n",
        "print(\"Valor da divida: \", end=\" \")\n",
        "print(\"Valor do juros: \", end=\" \")\n",
        "print(\"Quantidade de parcelas: \", end=\" \")\n",
        "print(\"Valor da parcela: \")\n",
        "\n",
        "for i in range(5):\n",
        "  if parcela == 1:\n",
        "    juros = 1\n",
        "    valor_juros = 0\n",
        "  elif parcela == 4:\n",
        "    parcela = 3\n",
        "    juros = 1.10\n",
        "  elif parcela == 7 or parcela == 6:\n",
        "    parcela = 6\n",
        "    juros = 1.15\n",
        "  elif parcela == 10 or parcela == 9:\n",
        "    parcela = 9\n",
        "    juros = 1.20\n",
        "  elif parcela == 13 or parcela == 12:\n",
        "    parcela = 12\n",
        "    juros = 1.25\n",
        "  valor_juros = divida * (juros - 1)\n",
        "  divida_com_juros = divida * juros\n",
        "  valor_parcela = divida_com_juros / parcela\n",
        "  print(\"R$\", round(divida_com_juros, 2), end=\"               \")\n",
        "  print(round(valor_juros, 2), end=\"                 \")\n",
        "  print(parcela, end=\"                   \")\n",
        "  print(\"R$ \", round(valor_parcela, 2))\n",
        "  parcela += 3"
      ],
      "metadata": {
        "colab": {
          "base_uri": "https://localhost:8080/"
        },
        "id": "BmzNcPJULZ_0",
        "outputId": "c133efeb-9538-4360-c684-15e7a1936bec"
      },
      "execution_count": null,
      "outputs": [
        {
          "output_type": "stream",
          "name": "stdout",
          "text": [
            "\n",
            "\n",
            "\n",
            "\n",
            "\n",
            "\n",
            "Digite o valor da divida: 100\n",
            "\n",
            "\n",
            "\n",
            "\n",
            "\n",
            "\n",
            "Valor da divida:  Valor do juros:  Quantidade de parcelas:  Valor da parcela: \n",
            "R$ 100.0               0.0                 1                   R$  100.0\n",
            "R$ 110.0               10.0                 3                   R$  36.67\n",
            "R$ 115.0               15.0                 6                   R$  19.17\n",
            "R$ 120.0               20.0                 9                   R$  13.33\n",
            "R$ 125.0               25.0                 12                   R$  10.42\n"
          ]
        }
      ]
    },
    {
      "cell_type": "code",
      "source": [
        "# 42 - Faça um programa que leia uma quantidade indeterminada de números positivos e conte quantos deles estão nos seguintes intervalos: [0-25], [26-50], [51-75] e [76-100]. A entrada de dados deverá terminar quando for lido um número negativo.\n",
        "\n",
        "n25 = []\n",
        "n50 = []\n",
        "n75 = []\n",
        "n100 = []\n",
        "numero = True\n",
        "while numero > 0:\n",
        "    numero = float(input(\"Informe um valor entre 0 e 100: \"))\n",
        "    if numero > 0 and numero <= 25:\n",
        "        n25.append(numero)\n",
        "    elif numero > 25 and numero <= 50:\n",
        "        n50.append(numero)\n",
        "    elif numero > 50 and numero <= 75:\n",
        "        n75.append(numero)\n",
        "    elif numero > 75 and numero <= 100:\n",
        "        n100.append(numero)\n",
        "\n",
        "print(\"\\n[0, 25]: \", len(n25))\n",
        "print(\"[26, 50]: \", len(n50))\n",
        "print(\"[51, 75]: \", len(n75))\n",
        "print(\"[76, 100]: \", len(n100))"
      ],
      "metadata": {
        "colab": {
          "base_uri": "https://localhost:8080/"
        },
        "id": "Juy8VI03N5N9",
        "outputId": "eae473f7-c97c-45b5-f353-c3382a22997c"
      },
      "execution_count": null,
      "outputs": [
        {
          "output_type": "stream",
          "name": "stdout",
          "text": [
            "Informe um valor entre 0 e 100: 47\n",
            "Informe um valor entre 0 e 100: 53\n",
            "Informe um valor entre 0 e 100: 15\n",
            "Informe um valor entre 0 e 100: 35\n",
            "Informe um valor entre 0 e 100: -1\n",
            "\n",
            "[0, 25]:  1\n",
            "[26, 50]:  2\n",
            "[51, 75]:  1\n",
            "[76, 100]:  0\n"
          ]
        }
      ]
    },
    {
      "cell_type": "code",
      "source": [
        "# 43 - O cardápio de uma lanchonete é o seguinte:\n",
        "# Especificação      Código       Preço\n",
        "# Cachorro Quente     100        R$ 1,20\n",
        "# Bauru Simples       101        R$ 1,30\n",
        "# Bauru com ovo       102        R$ 1,50\n",
        "# Hambúrguer          103        R$ 1,20\n",
        "# Cheeseburguer       104        R$ 1,30\n",
        "# Refrigerante        105        R$ 1,00\n",
        "# Faça um programa que leia o código dos itens pedidos e as quantidades desejadas. Calcule e mostre o valor a ser pago por item (preço * quantidade) e o total geral do pedido. C\n",
        "# onsidere que o cliente deve informar quando o pedido deve ser encerrado.\n",
        "\n",
        "codigos = [100, 101, 102, 103, 104, 105]\n",
        "comidas = ['Cachorro Quente', 'Bauru Simples', 'Bauru com ovo', 'Hamburguer', 'ChesseBurguer', 'Refrigerante']\n",
        "precos = [1.20, 1.30, 1.50, 1.20, 1.30, 1.0]\n",
        "codigo = True\n",
        "n_pedido = 1\n",
        "pedido = []\n",
        "\n",
        "while codigo != 0:\n",
        "  print(\"\\nPedido n°\", n_pedido)\n",
        "  codigo = int(input(\"Digite o código do alimento: \"))\n",
        "  if codigo == 0:\n",
        "    break\n",
        "  else:\n",
        "    while codigo not in codigos:\n",
        "      print(\"[Este código não corresponde a nenhum alimento.]\")\n",
        "      codigo = int(input(\"Digite o código do alimento: \"))\n",
        "    indice = codigos.index(codigo)\n",
        "    quant = int(input(\"Digite a quantidade: \"))\n",
        "    valor_pedido = precos[indice] * quant\n",
        "    pedido.append(valor_pedido)\n",
        "  n_pedido += 1\n",
        "pedido_nota = 0\n",
        "print(\"\\n\" * 2)\n",
        "for i in range(n_pedido - 1):\n",
        "  print(\"Pedido n°\", pedido_nota + 1, \"= R$\", round(pedido[pedido_nota], 2))\n",
        "  pedido_nota += 1\n",
        "print(\"Total: R$\", round(sum(pedido), 2))"
      ],
      "metadata": {
        "colab": {
          "base_uri": "https://localhost:8080/"
        },
        "id": "bEJYjPYrOfXX",
        "outputId": "67610c7f-8ce9-49e7-e2fb-78734ad68623"
      },
      "execution_count": null,
      "outputs": [
        {
          "output_type": "stream",
          "name": "stdout",
          "text": [
            "\n",
            "Pedido n° 1\n",
            "Digite o código do alimento: 100\n",
            "Digite a quantidade: 2\n",
            "\n",
            "Pedido n° 2\n",
            "Digite o código do alimento: 0\n",
            "\n",
            "\n",
            "\n",
            "Pedido n° 1 = R$ 2.4\n",
            "Total: R$ 2.4\n"
          ]
        }
      ]
    },
    {
      "cell_type": "code",
      "source": [
        "# 44 - Em uma eleição presidencial existem quatro candidatos. Os votos são informados por meio de código. Os códigos utilizados são:\n",
        "# 1 , 2, 3, 4  - Votos para os respectivos candidatos \n",
        "# (você deve montar a tabela ex: 1 - Jose/ 2- João/etc)\n",
        "# 5 - Voto Nulo\n",
        "# 6 - Voto em Branco\n",
        "\n",
        "possiveis_votos = [1, 2, 3, 4]\n",
        "candidatos = ['Bozo', 'Molusco', 'Nulo', 'Branco']\n",
        "votos = []\n",
        "\n",
        "voto = True\n",
        "n_votos = 1\n",
        "while voto != 0:\n",
        "  print(\"Voto n°\", n_votos)\n",
        "  voto = int(input(\"Digite o número do seu canditato: \"))\n",
        "  if voto == 0:\n",
        "    break\n",
        "  else:\n",
        "    while voto not in possiveis_votos:\n",
        "      print(\"[Número invalido.]\")\n",
        "      voto = int(input(\"Digite novamente o número do seu canditato: \"))\n",
        "    votos.append(voto)\n",
        "  n_votos += 1\n",
        "contador = 0\n",
        "print(\"\\n\" * 2)\n",
        "for i in range(len(candidatos)):\n",
        "  print(\"Número de votos para \", candidatos[contador], end=\" : \")\n",
        "  if votos.count == 0:\n",
        "    print(\"0\")\n",
        "    contador += 1\n",
        "  else:\n",
        "    print(votos.count(contador + 1))\n",
        "    contador += 1\n",
        "porcentagem_nulo = (votos.count(3) / len(votos)) * 100\n",
        "porcentagem_branco = (votos.count(4) / len(votos)) * 100\n",
        "print(\"\\nPorcentagem Nulos: \", round(porcentagem_nulo, 2), \"%\\nPorcentagem Brancos: \", round(porcentagem_branco, 2),\"%\")"
      ],
      "metadata": {
        "colab": {
          "base_uri": "https://localhost:8080/"
        },
        "id": "LVgutdCqPop9",
        "outputId": "9042a4d1-bea2-4fab-ca62-9d3e5858329b"
      },
      "execution_count": null,
      "outputs": [
        {
          "output_type": "stream",
          "name": "stdout",
          "text": [
            "Voto n° 1\n",
            "Digite o número do seu canditato: 1\n",
            "Voto n° 2\n",
            "Digite o número do seu canditato: 2\n",
            "Voto n° 3\n",
            "Digite o número do seu canditato: 3\n",
            "Voto n° 4\n",
            "Digite o número do seu canditato: 3\n",
            "Voto n° 5\n",
            "Digite o número do seu canditato: 3\n",
            "Voto n° 6\n",
            "Digite o número do seu canditato: 4\n",
            "Voto n° 7\n",
            "Digite o número do seu canditato: 4\n",
            "Voto n° 8\n",
            "Digite o número do seu canditato: 0\n",
            "\n",
            "\n",
            "\n",
            "Número de votos para  Bozo : 1\n",
            "Número de votos para  Molusco : 1\n",
            "Número de votos para  Nulo : 3\n",
            "Número de votos para  Branco : 2\n",
            "\n",
            "Porcentagem Nulos:  42.86 %\n",
            "Porcentagem Brancos:  28.57 %\n"
          ]
        }
      ]
    },
    {
      "cell_type": "code",
      "source": [
        "# 45 - Desenvolver um programa para verificar a nota do aluno em uma prova com 10 questões, o programa deve perguntar ao aluno a resposta de cada questão e ao final comparar com o gabarito da prova e assim calcular \n",
        "# o total de acertos e a nota (atribuir 1 ponto por resposta certa). Após cada aluno utilizar o sistema deve ser feita uma pergunta se outro aluno vai utilizar o sistema. Após todos os alunos terem respondido informar:\n",
        "# Maior e Menor Acerto;\n",
        "# Total de Alunos que utilizaram o sistema;\n",
        "# A Média das Notas da Turma.\n",
        "# Gabarito da Prova:\n",
        "\n",
        "# 01 - A\n",
        "# 02 - B\n",
        "# 03 - C\n",
        "# 04 - D\n",
        "# 05 - E\n",
        "# 06 - E\n",
        "# 07 - D\n",
        "# 08 - C\n",
        "# 09 - B\n",
        "# 10 - A\n",
        "\n",
        "# Após concluir isto você poderia incrementar o programa permitindo que o professor digite o gabarito da prova antes dos alunos usarem o programa.\n",
        "\n",
        "gabarito = []\n",
        "respostas_aluno = []\n",
        "notas = []\n",
        "print(\"\\nGabarito Oficial:\")\n",
        "for i in range(10):\n",
        "  print(\"Questão\", i + 1)\n",
        "  resposta_certa = gabarito.append(input(\"Digite a alternativa correta: \"))\n",
        "n_aluno = 1\n",
        "continuar = True\n",
        "while continuar != 'n':\n",
        "  print(\"\\n\" * 5)\n",
        "  print(\"Aluno n°\", n_aluno, \":\")\n",
        "  respostas_aluno.clear()\n",
        "  for i in range(10):\n",
        "    print(\"Questão: \", i + 1)\n",
        "    resposta_aluno = respostas_aluno.append(input(\"Escolha a alternativa correta: \"))\n",
        "  nota = 0\n",
        "  for i in range(10):\n",
        "    if respostas_aluno[i] == gabarito[i]:\n",
        "      nota += 1\n",
        "  notas.append(nota)\n",
        "  continuar = input(\"Outro aluno vai utilizar o sistema? [s/n] : \")\n",
        "  n_aluno += 1\n",
        "print(len(notas), \"alunos utilizaram o sistema\")\n",
        "print(\"\\nA maior nota foi: \", max(notas))\n",
        "print(\"A menor nota foi: \", min(notas))\n",
        "print(\"A média da turma é de:\", sum(notas) / len(notas))\n",
        "print(notas)"
      ],
      "metadata": {
        "colab": {
          "base_uri": "https://localhost:8080/"
        },
        "id": "676tt7-gYw6C",
        "outputId": "1affd070-5705-48ec-cc54-65602e554f4b"
      },
      "execution_count": null,
      "outputs": [
        {
          "output_type": "stream",
          "name": "stdout",
          "text": [
            "\n",
            "Gabarito Oficial:\n",
            "Questão 1\n",
            "Digite a alternativa correta: A\n",
            "Questão 2\n",
            "Digite a alternativa correta: B\n",
            "Questão 3\n",
            "Digite a alternativa correta: C\n",
            "Questão 4\n",
            "Digite a alternativa correta: D\n",
            "Questão 5\n",
            "Digite a alternativa correta: E\n",
            "Questão 6\n",
            "Digite a alternativa correta: E\n",
            "Questão 7\n",
            "Digite a alternativa correta: D\n",
            "Questão 8\n",
            "Digite a alternativa correta: C\n",
            "Questão 9\n",
            "Digite a alternativa correta: B\n",
            "Questão 10\n",
            "Digite a alternativa correta: A\n",
            "\n",
            "\n",
            "\n",
            "\n",
            "\n",
            "\n",
            "Aluno n° 1 :\n",
            "Questão:  1\n",
            "Escolha a alternativa correta: A\n",
            "Questão:  2\n",
            "Escolha a alternativa correta: C\n",
            "Questão:  3\n",
            "Escolha a alternativa correta: C\n",
            "Questão:  4\n",
            "Escolha a alternativa correta: B\n",
            "Questão:  5\n",
            "Escolha a alternativa correta: D\n",
            "Questão:  6\n",
            "Escolha a alternativa correta: E\n",
            "Questão:  7\n",
            "Escolha a alternativa correta: C\n",
            "Questão:  8\n",
            "Escolha a alternativa correta: C\n",
            "Questão:  9\n",
            "Escolha a alternativa correta: A\n",
            "Questão:  10\n",
            "Escolha a alternativa correta: A\n",
            "Outro aluno vai utilizar o sistema? [s/n] : n\n",
            "1 alunos utilizaram o sistema\n",
            "\n",
            "A maior nota foi:  5\n",
            "A menor nota foi:  5\n",
            "A média da turma é de: 5.0\n",
            "[5]\n"
          ]
        }
      ]
    },
    {
      "cell_type": "code",
      "source": [
        "# 46 - Em uma competição de salto em distância cada atleta tem direito a cinco saltos. No final da série de saltos de cada atleta, o melhor e o pior resultados são eliminados. O seu resultado fica sendo a média dos três valores restantes. \n",
        "# Você deve fazer um programa que receba o nome e as cinco distâncias alcançadas pelo atleta em seus saltos e depois informe a média dos saltos conforme a descrição acima informada (retirar o melhor e o pior salto e depois calcular a média). \n",
        "# Faça uso de uma lista para armazenar os saltos. Os saltos são informados na ordem da execução, portanto não são ordenados. \n",
        "# O programa deve ser encerrado quando não for informado o nome do atleta. A saída do programa deve ser conforme o exemplo abaixo:\n",
        "# Atleta: Rodrigo Curvêllo\n",
        "\n",
        "# Primeiro Salto: 6.5 m\n",
        "# Segundo Salto: 6.1 m\n",
        "# Terceiro Salto: 6.2 m\n",
        "# Quarto Salto: 5.4 m\n",
        "# Quinto Salto: 5.3 m\n",
        "\n",
        "# Melhor salto:  6.5 m\n",
        "# Pior salto: 5.3 m\n",
        "# Média dos demais saltos: 5.9 m\n",
        "\n",
        "# Resultado final:\n",
        "# Rodrigo Curvêllo: 5.9 m\n",
        "\n",
        "nome = True\n",
        "num = 1\n",
        "while nome != '':\n",
        "  saltos = []\n",
        "  print(\"\\n\" * 5)\n",
        "  print(\"Nº do atleta\", num)\n",
        "  nome = input(\"Insira o nome do atleta: \")\n",
        "  if nome == '':\n",
        "    break\n",
        "  else:\n",
        "    salto = 1\n",
        "    print(\"\\n\" * 3)\n",
        "    for i in range(5):\n",
        "      print(\"Salto n° \", salto)\n",
        "      distancia_salto = float(input(\"Qual a distancia do salto: \"))\n",
        "      saltos.append(distancia_salto)\n",
        "      salto += 1\n",
        "    print(\"Atleta: \", nome)\n",
        "    salto = 1\n",
        "    result = 0\n",
        "    for i in range(5):\n",
        "      print(salto, \"° salto : \", saltos[result],\" m\")\n",
        "      salto += 1\n",
        "      result += 1\n",
        "    print(\"Melhor salto: \", max(saltos), \" m\")\n",
        "    print(\"Pior salto: \", min(saltos), \" m\")\n",
        "    saltos.remove(max(saltos))\n",
        "    saltos.remove(min(saltos))\n",
        "    media = sum(saltos) / len(saltos)\n",
        "    print(\"Meéia dos saltos restamtes: \", round(media, 2))\n",
        "    print(\"Resultado Final: \\n\", nome, \" : \", round(media, 2))\n",
        "    num += 1"
      ],
      "metadata": {
        "colab": {
          "base_uri": "https://localhost:8080/"
        },
        "id": "DX-uyUvjeLJb",
        "outputId": "d3aa9614-76e9-492f-9fc1-5276568ded0b"
      },
      "execution_count": null,
      "outputs": [
        {
          "name": "stdout",
          "output_type": "stream",
          "text": [
            "\n",
            "\n",
            "\n",
            "\n",
            "\n",
            "\n",
            "Nº do atleta 1\n",
            "Insira o nome do atleta: Rodrigo Curvêllo\n",
            "\n",
            "\n",
            "\n",
            "\n",
            "Salto n°  1\n",
            "Qual a distancia do salto: 6.5\n",
            "Salto n°  2\n",
            "Qual a distancia do salto: 6.1\n",
            "Salto n°  3\n",
            "Qual a distancia do salto: 6.2\n",
            "Salto n°  4\n",
            "Qual a distancia do salto: 5.4\n",
            "Salto n°  5\n",
            "Qual a distancia do salto: 5.3\n",
            "Atleta:  Rodrigo Curvêllo\n",
            "1 ° salto :  6.5  m\n",
            "2 ° salto :  6.1  m\n",
            "3 ° salto :  6.2  m\n",
            "4 ° salto :  5.4  m\n",
            "5 ° salto :  5.3  m\n",
            "Melhor salto:  6.5  m\n",
            "Pior salto:  5.3  m\n",
            "Meéia dos saltos restamtes:  5.9\n",
            "Resultado Final: \n",
            " Rodrigo Curvêllo  :  5.9\n",
            "\n",
            "\n",
            "\n",
            "\n",
            "\n",
            "\n",
            "Nº do atleta 2\n",
            "Insira o nome do atleta: \n"
          ]
        }
      ]
    },
    {
      "cell_type": "code",
      "source": [
        "# 47 - Em uma competição de ginástica, cada atleta recebe votos de sete jurados. A melhor e a pior nota são eliminadas. \n",
        "# A sua nota fica sendo a média dos votos restantes. Você deve fazer um programa que receba o nome do ginasta e as notas dos sete jurados alcançadas pelo atleta em sua apresentação e depois informe a sua média, \n",
        "# conforme a descrição acima informada (retirar o melhor e o pior salto e depois calcular a média com as notas restantes). As notas não são informados ordenadas. Um exemplo de saída do programa deve ser conforme o exemplo abaixo:\n",
        "# Atleta: Aparecido Parente\n",
        "# Nota: 9.9\n",
        "# Nota: 7.5\n",
        "# Nota: 9.5\n",
        "# Nota: 8.5\n",
        "# Nota: 9.0\n",
        "# Nota: 8.5\n",
        "# Nota: 9.7\n",
        "\n",
        "# Resultado final:\n",
        "# Atleta: Aparecido Parente\n",
        "# Melhor nota: 9.9\n",
        "# Pior nota: 7.5\n",
        "# Média: 9,04\n",
        "\n",
        "import time\n",
        "nome = True\n",
        "atleta = 1\n",
        "while nome != '':\n",
        "  notas = []\n",
        "  print(\"\\n\" * 5)\n",
        "  print(\"Nº do atleta\", atleta)\n",
        "  nome = input(\"Insira o nome do atleta: \")\n",
        "  if nome == '':\n",
        "    break\n",
        "  else:\n",
        "    jurado = 1\n",
        "    print(\"\\n\" * 3)\n",
        "    for i in range(7):\n",
        "      print(\"Jurado n°\", jurado)\n",
        "      nota = float(input(\"Digite a nota: \"))\n",
        "      notas.append(nota)\n",
        "      jurado += 1\n",
        "    print(\"Atleta: \", nome)\n",
        "    jurado = 1\n",
        "    result = 0\n",
        "    for i in range(7):\n",
        "      print(jurado,\"° Jurado : \", notas[result])\n",
        "      jurado += 1\n",
        "      result += 1\n",
        "    print(\"Resultado Final:\")\n",
        "    print(\"Nome do atleta: \", nome)\n",
        "    print(\"Melhor nota: \", max(notas))\n",
        "    print(\"Pior nota: \", min(notas))\n",
        "    notas.remove(max(notas))\n",
        "    notas.remove(min(notas))\n",
        "    media = sum(notas) / len(notas)\n",
        "    print(\"Media: \", round(media, 2))\n",
        "    atleta += 1\n",
        "    print(\"Reiniciando em 5 segundos\")\n",
        "    time.sleep(5)"
      ],
      "metadata": {
        "colab": {
          "base_uri": "https://localhost:8080/"
        },
        "id": "YNqMVvWpgxiL",
        "outputId": "9411fd1f-7bf5-4d06-97f9-ad1eae107aae"
      },
      "execution_count": null,
      "outputs": [
        {
          "name": "stdout",
          "output_type": "stream",
          "text": [
            "\n",
            "\n",
            "\n",
            "\n",
            "\n",
            "\n",
            "Nº do atleta 1\n",
            "Insira o nome do atleta: Aparecido Parente\n",
            "\n",
            "\n",
            "\n",
            "\n",
            "Jurado n° 1\n",
            "Digite a nota: 9.9\n",
            "Jurado n° 2\n",
            "Digite a nota: 7.5\n",
            "Jurado n° 3\n",
            "Digite a nota: 9.5\n",
            "Jurado n° 4\n",
            "Digite a nota: 8.5\n",
            "Jurado n° 5\n",
            "Digite a nota: 9\n",
            "Jurado n° 6\n",
            "Digite a nota: 8.5\n",
            "Jurado n° 7\n",
            "Digite a nota: 9.7\n",
            "Atleta:  Aparecido Parente\n",
            "1 ° Jurado :  9.9\n",
            "2 ° Jurado :  7.5\n",
            "3 ° Jurado :  9.5\n",
            "4 ° Jurado :  8.5\n",
            "5 ° Jurado :  9.0\n",
            "6 ° Jurado :  8.5\n",
            "7 ° Jurado :  9.7\n",
            "Resultado Final:\n",
            "Nome do atleta:  Aparecido Parente\n",
            "Melhor nota:  9.9\n",
            "Pior nota:  7.5\n",
            "Media:  9.04\n",
            "Reiniciando em 5 segundos\n",
            "\n",
            "\n",
            "\n",
            "\n",
            "\n",
            "\n",
            "Nº do atleta 2\n",
            "Insira o nome do atleta: \n"
          ]
        }
      ]
    },
    {
      "cell_type": "code",
      "source": [
        "# 48 - Faça um programa que peça um numero inteiro positivo e em seguida mostre este numero invertido.\n",
        "# Exemplo:\n",
        "#  12376489\n",
        "#  => 98467321\n",
        "\n",
        "num = input(\"Digite um número: \")\n",
        "print(\"Número invertido:\", num[:: -1])"
      ],
      "metadata": {
        "colab": {
          "base_uri": "https://localhost:8080/"
        },
        "id": "ZNmGVnp3jCOd",
        "outputId": "11573340-d98f-4d52-e1e3-7a447e510a06"
      },
      "execution_count": null,
      "outputs": [
        {
          "output_type": "stream",
          "name": "stdout",
          "text": [
            "Digite um número: 12376489\n",
            "Número invertido: 98467321\n"
          ]
        }
      ]
    },
    {
      "cell_type": "code",
      "source": [
        "# 49 - Faça um programa que mostre os n termos da Série a seguir:\n",
        "#  S = 1/1 + 2/3 + 3/5 + 4/7 + 5/9 + ... + n/m.\n",
        "\n",
        "n1 = 1\n",
        "n2 = 1\n",
        "n1_lista = []\n",
        "n2_lista = []\n",
        "print(\"S = \", end = \"\")\n",
        "while n1 <= 20 -1:\n",
        "  print(n1, \"/\", n2, \" + \", end=\"\")\n",
        "  n1_lista.append(n1)\n",
        "  n2_lista.append(n2)\n",
        "  n1 += 1\n",
        "  n2 += 2\n",
        "print(n1, \"/\", n2)"
      ],
      "metadata": {
        "colab": {
          "base_uri": "https://localhost:8080/"
        },
        "id": "qKcU5UjqmMR-",
        "outputId": "d7767abb-c8fb-42e2-fb1f-2d6c5c499648"
      },
      "execution_count": null,
      "outputs": [
        {
          "output_type": "stream",
          "name": "stdout",
          "text": [
            "S = 1 / 1  + 2 / 3  + 3 / 5  + 4 / 7  + 5 / 9  + 6 / 11  + 7 / 13  + 8 / 15  + 9 / 17  + 10 / 19  + 11 / 21  + 12 / 23  + 13 / 25  + 14 / 27  + 15 / 29  + 16 / 31  + 17 / 33  + 18 / 35  + 19 / 37  + 20 / 39\n"
          ]
        }
      ]
    },
    {
      "cell_type": "code",
      "source": [
        "# 50 - Sendo H= 1 + 1/2 + 1/3 + 1/4 + ... + 1/N, Faça um programa que calcule o valor de H com N termos.\n",
        "\n",
        "h = 1\n",
        "c = 2\n",
        "h_lista = []\n",
        "c_lista = []\n",
        "print(\"H = 1 +\", end = \"\")\n",
        "while c <= 15 -1:\n",
        "  print(\" \",h, \"/\", c, \" + \", end=\"\")\n",
        "  h_lista.append(h)\n",
        "  c_lista.append(c)\n",
        "  c += 1\n",
        "print(h, \"/\", c, \" => \", sum(h_lista), \"/\", sum(c_lista), \" => \", round(sum(h_lista) / sum(c_lista)), 2)"
      ],
      "metadata": {
        "colab": {
          "base_uri": "https://localhost:8080/"
        },
        "id": "MEZJYTdunJIc",
        "outputId": "70d181e4-5f06-4294-b689-79c354c1b708"
      },
      "execution_count": null,
      "outputs": [
        {
          "output_type": "stream",
          "name": "stdout",
          "text": [
            "H = 1 +  1 / 2  +   1 / 3  +   1 / 4  +   1 / 5  +   1 / 6  +   1 / 7  +   1 / 8  +   1 / 9  +   1 / 10  +   1 / 11  +   1 / 12  +   1 / 13  +   1 / 14  + 1 / 15  =>  13 / 104  =>  0 2\n"
          ]
        }
      ]
    },
    {
      "cell_type": "code",
      "source": [
        "# 51 - Faça um programa que mostre os n termos da Série a seguir:\n",
        "#  S = 1/1 + 2/3 + 3/5 + 4/7 + 5/9 + ... + n/m. \n",
        "# Imprima no final a soma da série.\n",
        "\n",
        "n1 = 1\n",
        "n2 = 1\n",
        "n1_lista = []\n",
        "n2_lista = []\n",
        "print(\"S = \", end = \"\")\n",
        "while n1 <= 20 -1:\n",
        "  print(n1, \"/\", n2, \" + \", end=\"\")\n",
        "  n1_lista.append(n1)\n",
        "  n2_lista.append(n2)\n",
        "  n1 += 1\n",
        "  n2 += 2\n",
        "print(n1, \"/\", n2, \" = \", sum(n1_lista), \"/\", sum(n2_lista))"
      ],
      "metadata": {
        "colab": {
          "base_uri": "https://localhost:8080/"
        },
        "id": "oRocoLddo8ER",
        "outputId": "dea2294b-94a7-46b1-b47a-e37f70a794bc"
      },
      "execution_count": null,
      "outputs": [
        {
          "output_type": "stream",
          "name": "stdout",
          "text": [
            "S = 1 / 1  + 2 / 3  + 3 / 5  + 4 / 7  + 5 / 9  + 6 / 11  + 7 / 13  + 8 / 15  + 9 / 17  + 10 / 19  + 11 / 21  + 12 / 23  + 13 / 25  + 14 / 27  + 15 / 29  + 16 / 31  + 17 / 33  + 18 / 35  + 19 / 37  + 20 / 39  =  190 / 361\n"
          ]
        }
      ]
    }
  ],
  "metadata": {
    "colab": {
      "collapsed_sections": [],
      "provenance": [],
      "authorship_tag": "ABX9TyNngM4mAmxr/0OidEc8g8c7",
      "include_colab_link": true
    },
    "kernelspec": {
      "display_name": "Python 3",
      "name": "python3"
    },
    "language_info": {
      "name": "python"
    }
  },
  "nbformat": 4,
  "nbformat_minor": 0
}